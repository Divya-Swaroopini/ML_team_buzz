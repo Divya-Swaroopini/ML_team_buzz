{
    "cells": [
        {
            "cell_type": "markdown",
            "source": [
                "\n",
                "MNIST - computer vision dataset\n",
                "28x28 pixel images (28x28 array of each image)\n",
                "    we can flatten each array into a 28∗28=784 dimensional vector\n",
                "        So MNIST can be thought of as a collection of 784-dimensional vectors.\n",
                "\n",
                "What does it mean to capture the global geometry of the data?\n",
                "If the distances between points in our visualization d(i,j) = distances between the points in original space d(∗i,j)\n",
                "\n",
                "Multidimentional Scaling(MDS) - Pick a random point, start applying gradient decent\n",
                "\n",
                "Sammon's Mapping : preserve the distances between nearby points than between those which are far apart\n"
            ],
            "metadata": {}
        },
        {
            "cell_type": "code",
            "execution_count": 1,
            "source": [
                "import torch\n",
                "import torchvision\n",
                "import torch.nn as nn #Module to train NN\n",
                "import torchvision.transforms as transforms"
            ],
            "outputs": [],
            "metadata": {}
        },
        {
            "cell_type": "markdown",
            "source": [
                "#PRE PROCESSING \n",
                "\n",
                "torchvision.transforms - editing the image properties\n",
                "\n",
                "transforms.ToTensor -> convert image to tensor(numbers)\n",
                "\n",
                "   seperating the RGB channels\n",
                "   convert pixels of each image to brightness of color b/w 0 n 255\n",
                "   scale all values down to fit b/w the range of 0 n 1\n",
                "\n",
                "transforms.Normalize(mean, stdDev, inplace) -> change the range of pixel intensity values (apply contrast)\n",
                "\n",
                "inplace - apply changes to current tensor\n",
                "\n",
                "MNIST was apparently binary, but the resizing resulted in it having additional greyscale values.\n",
                "\n",
                "normalize by dividing all values by 255 (not the sum of all pixel values) to bring it to the 0-1 range\n"
            ],
            "metadata": {}
        },
        {
            "cell_type": "code",
            "execution_count": 2,
            "source": [
                "#Importing MNIST (test and train)\n",
                "train_ds = torchvision.datasets.MNIST(root='/home/sweedy/Desktop/DiagnosisOfPathologicalPlants/MNIST', \n",
                "        train=True,\n",
                "        transform = transforms.ToTensor(),\n",
                "        download=True)\n",
                "\n",
                "test_ds = torchvision.datasets.MNIST(root='/home/sweedy/Desktop/DiagnosisOfPathologicalPlants/MNIST', \n",
                "        train=False,\n",
                "        transform = transforms.ToTensor())\n",
                "\n",
                "#print(len(train_ds))\n",
                "#print(len(test_ds))\n",
                "        "
            ],
            "outputs": [],
            "metadata": {}
        },
        {
            "cell_type": "code",
            "execution_count": 3,
            "source": [
                "#Defining Hyper parameters for The neural Network\n",
                "\n",
                "#output size is what we are trying to predict. (Output dimensions 0, 1, 2, 3, 4, 5, 6, 7, 8, 9 = 10)\n",
                "#input size is determined by the size of the image - 784\n",
                "#hidden layers - no. of non linear activation functions, so we'll try with a 100 since this isn't a very large dataset\n",
                "input_size = 784 # 28x28\n",
                "hidden_size = 100\n",
                "output_size = 10\n",
                "\n",
                "#Trying to implement 5 epochs with 600 itterations each : batch size per itteration is 100\n",
                "batch_size = 100\n",
                "num_of_itterations = 3000 #3000 / 6000 / 100 ~ 5 epochs\n",
                "epochs = int(num_of_itterations / (len(train_ds) / batch_size))\n",
                "\n",
                "#Learning Rate -Too high - too unstable, too low, too slow.\n",
                "#We could try a high learning rate? if we subsequently reduce it.\n",
                "learning_rate = 0.1"
            ],
            "outputs": [],
            "metadata": {}
        },
        {
            "cell_type": "markdown",
            "source": [
                "#Techniques for training NEURAL NETWORKS:\n",
                "\n",
                "Neural networks are trained using the stochastic gradient descent optimization algorithm.\n",
                "\n",
                "BATCH : Optimization algorithms that use the entire training set are called batch or deterministic gradient methods, because they process all of the training examples simultaneously in a large batch.\n",
                "ONLINE : Optimization algorithms that use only a single example at a time are sometimes called stochastic or sometimes online methods.\n",
                "\n",
                "BATCH V.S ONLINE\n",
                "\n",
                "        BATCH -> Implementable for feedforward networks\n",
                "        \n",
                "        ONLINE -> Good for back propogation Algorithms always   "
            ],
            "metadata": {}
        },
        {
            "cell_type": "markdown",
            "source": [
                "#Attempting to design a Simple Feed forward NN by using Batch/Deterministic Training methods:\n",
                "\n",
                "Terminology related to Batch Gradient Decent:\n",
                "\n",
                "Batch Size - number of training examples used in error estimation\n",
                "    -> Batch Gradient Descent - Batch size is set to the total number of examples in the training dataset.\n",
                "    -> Stochastic Gradient Descent - Batch size is set to one.\n",
                "    -> Minibatch Gradient Descent - Batch size is set to more than one and less than the total number of examples in the training dataset.\n",
                "\n",
                "Smaller Batch Sizes are prefered\n",
                "(Reasoning behind it: regularization effect on the generalization error becuase of all the noise + fitting training data in limited GPU memory)\n",
                "\n",
                "HOW AM I LOADING THE DATASET? Early Loading or Lazy Loading\n",
                "DataLoader class - arrange dataset class into small batches using a few randomization techniques\n"
            ],
            "metadata": {}
        },
        {
            "cell_type": "code",
            "execution_count": 4,
            "source": [
                "#Load Train and Test MNIST Datasets\n",
                "load_trainData = torch.utils.data.DataLoader(dataset=train_ds, batch_size=batch_size, shuffle=True) #Will randomly load a shuffled batch of train data of size ~ 100\n",
                "load_testData = torch.utils.data.DataLoader(dataset=test_ds, batch_size=batch_size, shuffle=False) #No need to shuffle the Test data"
            ],
            "outputs": [],
            "metadata": {}
        },
        {
            "cell_type": "code",
            "execution_count": 5,
            "source": [
                "#Visualization\n",
                "import matplotlib.pyplot as plt\n",
                "\n",
                "examples = iter(load_trainData) #or load_testData\n",
                "example_data, example_target = examples.next()\n",
                "\n",
                "#Set the range to 6, else you end up with the below error\n",
                "#ValueError: num must be 1 <= num <= 6\n",
                "for i in range(6):\n",
                "    plt.subplot(2, 3, i+1)\n",
                "    plt.imshow(example_data[i][0], cmap='gray')\n",
                "    plt.show()\n"
            ],
            "outputs": [
                {
                    "output_type": "display_data",
                    "data": {
                        "text/plain": [
                            "<Figure size 432x288 with 1 Axes>"
                        ],
                        "image/svg+xml": "<?xml version=\"1.0\" encoding=\"utf-8\" standalone=\"no\"?>\n<!DOCTYPE svg PUBLIC \"-//W3C//DTD SVG 1.1//EN\"\n  \"http://www.w3.org/Graphics/SVG/1.1/DTD/svg11.dtd\">\n<!-- Created with matplotlib (https://matplotlib.org/) -->\n<svg height=\"131.589529pt\" version=\"1.1\" viewBox=\"0 0 132.595588 131.589529\" width=\"132.595588pt\" xmlns=\"http://www.w3.org/2000/svg\" xmlns:xlink=\"http://www.w3.org/1999/xlink\">\n <defs>\n  <style type=\"text/css\">\n*{stroke-linecap:butt;stroke-linejoin:round;}\n  </style>\n </defs>\n <g id=\"figure_1\">\n  <g id=\"patch_1\">\n   <path d=\"M -0 131.589529 \nL 132.595588 131.589529 \nL 132.595588 0 \nL -0 0 \nz\n\" style=\"fill:none;\"/>\n  </g>\n  <g id=\"axes_1\">\n   <g id=\"patch_2\">\n    <path d=\"M 26.925 107.711404 \nL 125.395588 107.711404 \nL 125.395588 9.240815 \nL 26.925 9.240815 \nz\n\" style=\"fill:#ffffff;\"/>\n   </g>\n   <g clip-path=\"url(#pacc9fc25f8)\">\n    <image height=\"99\" id=\"image5a4632ea93\" transform=\"scale(1 -1)translate(0 -99)\" width=\"99\" x=\"26.925\" xlink:href=\"data:image/png;base64,\niVBORw0KGgoAAAANSUhEUgAAAGMAAABjCAYAAACPO76VAAAABHNCSVQICAgIfAhkiAAAA4xJREFUeJztnD1La0EQhieSRkkn/gaFlJIygo3EyvhVCUmlYKedIGlCIhZikdJS0S6mTCtiI4KpFNMJVgFrO/V248yCIYaYfeN9n2qWAc/C4+xu9uzZhIh8CoFgLHYHyBeUAQRlAEEZQFAGEJQBBGUAQRlAUAYQlAEEZQBBGUBQBhCUAQRlAEEZQFAGEMnYHeiXnZ0djfP5vMtls1nX/vz8epmZSCS+zRWLRZdrNBoav7299d/ZHmFlAEEZQCQE+EDC1NSUxqenpy6Xy+U0/vj4cLmxMf8/ZvM/yVUqFY1LpVKv3e4bVgYQlAEEZQABNWfMzMy49sPDg8Z2CSoi8vLyovHJyYnLPT09ubZdoobs7+9rXC6XXc4+M5n8/V8BrAwgKAOI6MOUHZru7u5cLpVKafz4+Ohy29vbGl9fXw+kL+FQaJ+ZTqcH8oxusDKAoAwgKAOI6Lu2dvd1fHzc5Z6fnzWemJhwObsMDZeu5+fnrv36+vrt85eXlzUOt1UGNRf1CisDCMoAIvowtbKyonH44scOLwcHBy5XrVY1Pj4+drnd3V3XtsNNu912ub29vW+fP2xYGUBQBhCUAUT07ZD393eNw+2Ii4sLjQuFgsvNzc1pHB5I2NjYcO3JyUmNux1IaLVaLre4uKhxt+XxoGBlAEEZQEQfpuyv3nCYur+/1ziTyfT8N2dnZ117c3NT462tLZe7vLzUuFaruRx/gf/HUAYQlAFE9Dmj0+lobJegIn6p+ZM5Y1RhZQBBGUBQBhDRt9APDw81Pjo6itiT+LAygKAMIKIvbe3Wxe3trcvZHdZwaWu3Sv4KrAwgKAMIygAi+tLWzgvhW7jYpzWGDSsDCMoAIvrS1tJsNl17YWFBY/tGTkRkfX19KH0aJqwMICgDCMoAAmrOsAfTRESurq40Dk+OrK2tadzt0+JRgpUBBGUAATVMhfR7DndUYWUAQRlAUAYQ0HOGvS5ienra5ewFjuGcMapLXVYGEJQBBPQwZW8vCC+MtDcmhDfuzM/Pu/YwPgEbBKwMICgDCMoAAnrOsJydnbm2/by427eAIv76ipubm1/o3WBgZQBBGUCMzDAVUq/XNV5aWnK5brcg2N1eEawdX1YGEJQBBGUAEf2sbb/Ysd7epiYisrq66tp2xze8iQ0JVgYQlAHEyC5t/yKsDCAoAwjKAIIygKAMICgDCMoAgjKAoAwgKAOIfzjF8Sx8AcpUAAAAAElFTkSuQmCC\" y=\"-8.711404\"/>\n   </g>\n   <g id=\"matplotlib.axis_1\">\n    <g id=\"xtick_1\">\n     <g id=\"line2d_1\">\n      <defs>\n       <path d=\"M 0 0 \nL 0 3.5 \n\" id=\"ma5b4328fcf\" style=\"stroke:#000000;stroke-width:0.8;\"/>\n      </defs>\n      <g>\n       <use style=\"stroke:#000000;stroke-width:0.8;\" x=\"28.683403\" xlink:href=\"#ma5b4328fcf\" y=\"107.711404\"/>\n      </g>\n     </g>\n     <g id=\"text_1\">\n      <!-- 0 -->\n      <defs>\n       <path d=\"M 31.78125 66.40625 \nQ 24.171875 66.40625 20.328125 58.90625 \nQ 16.5 51.421875 16.5 36.375 \nQ 16.5 21.390625 20.328125 13.890625 \nQ 24.171875 6.390625 31.78125 6.390625 \nQ 39.453125 6.390625 43.28125 13.890625 \nQ 47.125 21.390625 47.125 36.375 \nQ 47.125 51.421875 43.28125 58.90625 \nQ 39.453125 66.40625 31.78125 66.40625 \nz\nM 31.78125 74.21875 \nQ 44.046875 74.21875 50.515625 64.515625 \nQ 56.984375 54.828125 56.984375 36.375 \nQ 56.984375 17.96875 50.515625 8.265625 \nQ 44.046875 -1.421875 31.78125 -1.421875 \nQ 19.53125 -1.421875 13.0625 8.265625 \nQ 6.59375 17.96875 6.59375 36.375 \nQ 6.59375 54.828125 13.0625 64.515625 \nQ 19.53125 74.21875 31.78125 74.21875 \nz\n\" id=\"DejaVuSans-48\"/>\n      </defs>\n      <g transform=\"translate(25.502153 122.309841)scale(0.1 -0.1)\">\n       <use xlink:href=\"#DejaVuSans-48\"/>\n      </g>\n     </g>\n    </g>\n    <g id=\"xtick_2\">\n     <g id=\"line2d_2\">\n      <g>\n       <use style=\"stroke:#000000;stroke-width:0.8;\" x=\"63.851471\" xlink:href=\"#ma5b4328fcf\" y=\"107.711404\"/>\n      </g>\n     </g>\n     <g id=\"text_2\">\n      <!-- 10 -->\n      <defs>\n       <path d=\"M 12.40625 8.296875 \nL 28.515625 8.296875 \nL 28.515625 63.921875 \nL 10.984375 60.40625 \nL 10.984375 69.390625 \nL 28.421875 72.90625 \nL 38.28125 72.90625 \nL 38.28125 8.296875 \nL 54.390625 8.296875 \nL 54.390625 0 \nL 12.40625 0 \nz\n\" id=\"DejaVuSans-49\"/>\n      </defs>\n      <g transform=\"translate(57.488971 122.309841)scale(0.1 -0.1)\">\n       <use xlink:href=\"#DejaVuSans-49\"/>\n       <use x=\"63.623047\" xlink:href=\"#DejaVuSans-48\"/>\n      </g>\n     </g>\n    </g>\n    <g id=\"xtick_3\">\n     <g id=\"line2d_3\">\n      <g>\n       <use style=\"stroke:#000000;stroke-width:0.8;\" x=\"99.019538\" xlink:href=\"#ma5b4328fcf\" y=\"107.711404\"/>\n      </g>\n     </g>\n     <g id=\"text_3\">\n      <!-- 20 -->\n      <defs>\n       <path d=\"M 19.1875 8.296875 \nL 53.609375 8.296875 \nL 53.609375 0 \nL 7.328125 0 \nL 7.328125 8.296875 \nQ 12.9375 14.109375 22.625 23.890625 \nQ 32.328125 33.6875 34.8125 36.53125 \nQ 39.546875 41.84375 41.421875 45.53125 \nQ 43.3125 49.21875 43.3125 52.78125 \nQ 43.3125 58.59375 39.234375 62.25 \nQ 35.15625 65.921875 28.609375 65.921875 \nQ 23.96875 65.921875 18.8125 64.3125 \nQ 13.671875 62.703125 7.8125 59.421875 \nL 7.8125 69.390625 \nQ 13.765625 71.78125 18.9375 73 \nQ 24.125 74.21875 28.421875 74.21875 \nQ 39.75 74.21875 46.484375 68.546875 \nQ 53.21875 62.890625 53.21875 53.421875 \nQ 53.21875 48.921875 51.53125 44.890625 \nQ 49.859375 40.875 45.40625 35.40625 \nQ 44.1875 33.984375 37.640625 27.21875 \nQ 31.109375 20.453125 19.1875 8.296875 \nz\n\" id=\"DejaVuSans-50\"/>\n      </defs>\n      <g transform=\"translate(92.657038 122.309841)scale(0.1 -0.1)\">\n       <use xlink:href=\"#DejaVuSans-50\"/>\n       <use x=\"63.623047\" xlink:href=\"#DejaVuSans-48\"/>\n      </g>\n     </g>\n    </g>\n   </g>\n   <g id=\"matplotlib.axis_2\">\n    <g id=\"ytick_1\">\n     <g id=\"line2d_4\">\n      <defs>\n       <path d=\"M 0 0 \nL -3.5 0 \n\" id=\"m960e52b431\" style=\"stroke:#000000;stroke-width:0.8;\"/>\n      </defs>\n      <g>\n       <use style=\"stroke:#000000;stroke-width:0.8;\" x=\"26.925\" xlink:href=\"#m960e52b431\" y=\"10.999219\"/>\n      </g>\n     </g>\n     <g id=\"text_4\">\n      <!-- 0 -->\n      <g transform=\"translate(13.5625 14.798437)scale(0.1 -0.1)\">\n       <use xlink:href=\"#DejaVuSans-48\"/>\n      </g>\n     </g>\n    </g>\n    <g id=\"ytick_2\">\n     <g id=\"line2d_5\">\n      <g>\n       <use style=\"stroke:#000000;stroke-width:0.8;\" x=\"26.925\" xlink:href=\"#m960e52b431\" y=\"46.167286\"/>\n      </g>\n     </g>\n     <g id=\"text_5\">\n      <!-- 10 -->\n      <g transform=\"translate(7.2 49.966505)scale(0.1 -0.1)\">\n       <use xlink:href=\"#DejaVuSans-49\"/>\n       <use x=\"63.623047\" xlink:href=\"#DejaVuSans-48\"/>\n      </g>\n     </g>\n    </g>\n    <g id=\"ytick_3\">\n     <g id=\"line2d_6\">\n      <g>\n       <use style=\"stroke:#000000;stroke-width:0.8;\" x=\"26.925\" xlink:href=\"#m960e52b431\" y=\"81.335353\"/>\n      </g>\n     </g>\n     <g id=\"text_6\">\n      <!-- 20 -->\n      <g transform=\"translate(7.2 85.134572)scale(0.1 -0.1)\">\n       <use xlink:href=\"#DejaVuSans-50\"/>\n       <use x=\"63.623047\" xlink:href=\"#DejaVuSans-48\"/>\n      </g>\n     </g>\n    </g>\n   </g>\n   <g id=\"patch_3\">\n    <path d=\"M 26.925 107.711404 \nL 26.925 9.240815 \n\" style=\"fill:none;stroke:#000000;stroke-linecap:square;stroke-linejoin:miter;stroke-width:0.8;\"/>\n   </g>\n   <g id=\"patch_4\">\n    <path d=\"M 125.395588 107.711404 \nL 125.395588 9.240815 \n\" style=\"fill:none;stroke:#000000;stroke-linecap:square;stroke-linejoin:miter;stroke-width:0.8;\"/>\n   </g>\n   <g id=\"patch_5\">\n    <path d=\"M 26.925 107.711404 \nL 125.395588 107.711404 \n\" style=\"fill:none;stroke:#000000;stroke-linecap:square;stroke-linejoin:miter;stroke-width:0.8;\"/>\n   </g>\n   <g id=\"patch_6\">\n    <path d=\"M 26.925 9.240815 \nL 125.395588 9.240815 \n\" style=\"fill:none;stroke:#000000;stroke-linecap:square;stroke-linejoin:miter;stroke-width:0.8;\"/>\n   </g>\n  </g>\n </g>\n <defs>\n  <clipPath id=\"pacc9fc25f8\">\n   <rect height=\"98.470588\" width=\"98.470588\" x=\"26.925\" y=\"9.240815\"/>\n  </clipPath>\n </defs>\n</svg>\n",
                        "image/png": "[encoded data removed]"
                    },
                    "metadata": {
                        "needs_background": "light"
                    }
                },
                {
                    "output_type": "display_data",
                    "data": {
                        "text/plain": [
                            "<Figure size 432x288 with 1 Axes>"
                        ],
                        "image/svg+xml": "<?xml version=\"1.0\" encoding=\"utf-8\" standalone=\"no\"?>\n<!DOCTYPE svg PUBLIC \"-//W3C//DTD SVG 1.1//EN\"\n  \"http://www.w3.org/Graphics/SVG/1.1/DTD/svg11.dtd\">\n<!-- Created with matplotlib (https://matplotlib.org/) -->\n<svg height=\"131.589529pt\" version=\"1.1\" viewBox=\"0 0 132.595588 131.589529\" width=\"132.595588pt\" xmlns=\"http://www.w3.org/2000/svg\" xmlns:xlink=\"http://www.w3.org/1999/xlink\">\n <defs>\n  <style type=\"text/css\">\n*{stroke-linecap:butt;stroke-linejoin:round;}\n  </style>\n </defs>\n <g id=\"figure_1\">\n  <g id=\"patch_1\">\n   <path d=\"M 0 131.589529 \nL 132.595588 131.589529 \nL 132.595588 0 \nL 0 0 \nz\n\" style=\"fill:none;\"/>\n  </g>\n  <g id=\"axes_1\">\n   <g id=\"patch_2\">\n    <path d=\"M 26.925 107.711404 \nL 125.395588 107.711404 \nL 125.395588 9.240815 \nL 26.925 9.240815 \nz\n\" style=\"fill:#ffffff;\"/>\n   </g>\n   <g clip-path=\"url(#paf9ba55af3)\">\n    <image height=\"99\" id=\"imagec19f487ad3\" transform=\"scale(1 -1)translate(0 -99)\" width=\"99\" x=\"26.925\" xlink:href=\"data:image/png;base64,\niVBORw0KGgoAAAANSUhEUgAAAGMAAABjCAYAAACPO76VAAAABHNCSVQICAgIfAhkiAAAA6JJREFUeJztnE0rdGEYx++R1wUZbyWyYTdZWSmFIjZWFkZSrHwBSY2PIMtZWXhJiIVvgCwUCVGzmVmJlJ3SDIpn9VzPue6aYd7O+Z/z/H+r/9WlcdXPdc6MczchY8y38Tl3d3eq7u3t9WiS4qjwegDyD8oAgjKAqPR6gEIZGhqS/PDw4N0gJYSbAQRlAOHby1Rra6vkvr4+1aupqVH1+/u7KzMVCzcDCMoAgjKA8O09w0lzc7OqJyYmVH14eOjmOAXDzQCCMoAIxGUqFAp5PUJJ4GYAQRlAUAYQgbhnfH/rh5XhcNijSYqDmwEEZQARMj49kNDW1iY5kUio3uPjo6oHBgYkv76+lnewIuBmAEEZQFAGEL69Zzh5fn5WdUtLi6rX1tYkLy0tuTJTIXAzgKAMIALxCXxjY0PVi4uLqq6rq3NxmsLhZgBBGUBQBhCBeGtbX1+v6qurK1U3NTVJdp7RNcaY+/v7ss2VL9wMICgDiEBcpmz29/dVPTk5Kfng4ED1pqenXZnpN3AzgKAMICgDiEDeM2ZmZlS9ubkpOZ1Oq57zKeDt7W15B/sBbgYQlAFEIC9T1dXVql5fX5dsX8K2trYkz8/Pl3ewH+BmAEEZQFAGEIF40mfz8fGh6vPzc8n2PWN4eFhyQ0OD6rl94I2bAQRlAEEZQATyc4aN80nfycmJ6kUiEckjIyOqd3x8XNa5bLgZQFAGEHldppxv/VZWVlTv7OxM8uXlperZZ2G9ZGpqStU7OzuSX15eVK+9vd2Vmf7CzQCCMoCgDCDyumdsb29LznWq4unpSdUXFxeS7UNjzjqZTGZ9zZubm9+OmRPnW1lj9NO9z89P1RsfH5d8enpakt+fC24GEJQBRF6XqcbGRskLCwuqV1tbKzkajapeR0eH5KqqKtVz1vZhASdvb2+qPjo6kmxfFu16b29PciaTUT3np+z+/n7VW11dlby8vJx1tlLBzQCCMoCgDCBc+a9tT0+P5M7OTtXr6uqSPDc3l/U1BgcHVW1/k04uUqmU5Ovr66yv6/ziYmOM2d3dlTw7O/vr31co3AwgKAMI3zxcsj85d3d3Sx4dHVW9sbGxrD9bUaH//r6+viTH43HVi8Vikt04nMDNAIIygKAMIHxzz/gf4GYAQRlAUAYQlAEEZQBBGUBQBhCUAQRlAEEZQFAGEJQBBGUAQRlAUAYQlAEEZQBBGUBQBhCUAQRlAEEZQFAGEJQBBGUAQRlAUAYQfwCf1by/B1ENHAAAAABJRU5ErkJggg==\" y=\"-8.711404\"/>\n   </g>\n   <g id=\"matplotlib.axis_1\">\n    <g id=\"xtick_1\">\n     <g id=\"line2d_1\">\n      <defs>\n       <path d=\"M 0 0 \nL 0 3.5 \n\" id=\"mce437b1a1c\" style=\"stroke:#000000;stroke-width:0.8;\"/>\n      </defs>\n      <g>\n       <use style=\"stroke:#000000;stroke-width:0.8;\" x=\"28.683403\" xlink:href=\"#mce437b1a1c\" y=\"107.711404\"/>\n      </g>\n     </g>\n     <g id=\"text_1\">\n      <!-- 0 -->\n      <defs>\n       <path d=\"M 31.78125 66.40625 \nQ 24.171875 66.40625 20.328125 58.90625 \nQ 16.5 51.421875 16.5 36.375 \nQ 16.5 21.390625 20.328125 13.890625 \nQ 24.171875 6.390625 31.78125 6.390625 \nQ 39.453125 6.390625 43.28125 13.890625 \nQ 47.125 21.390625 47.125 36.375 \nQ 47.125 51.421875 43.28125 58.90625 \nQ 39.453125 66.40625 31.78125 66.40625 \nz\nM 31.78125 74.21875 \nQ 44.046875 74.21875 50.515625 64.515625 \nQ 56.984375 54.828125 56.984375 36.375 \nQ 56.984375 17.96875 50.515625 8.265625 \nQ 44.046875 -1.421875 31.78125 -1.421875 \nQ 19.53125 -1.421875 13.0625 8.265625 \nQ 6.59375 17.96875 6.59375 36.375 \nQ 6.59375 54.828125 13.0625 64.515625 \nQ 19.53125 74.21875 31.78125 74.21875 \nz\n\" id=\"DejaVuSans-48\"/>\n      </defs>\n      <g transform=\"translate(25.502153 122.309841)scale(0.1 -0.1)\">\n       <use xlink:href=\"#DejaVuSans-48\"/>\n      </g>\n     </g>\n    </g>\n    <g id=\"xtick_2\">\n     <g id=\"line2d_2\">\n      <g>\n       <use style=\"stroke:#000000;stroke-width:0.8;\" x=\"63.851471\" xlink:href=\"#mce437b1a1c\" y=\"107.711404\"/>\n      </g>\n     </g>\n     <g id=\"text_2\">\n      <!-- 10 -->\n      <defs>\n       <path d=\"M 12.40625 8.296875 \nL 28.515625 8.296875 \nL 28.515625 63.921875 \nL 10.984375 60.40625 \nL 10.984375 69.390625 \nL 28.421875 72.90625 \nL 38.28125 72.90625 \nL 38.28125 8.296875 \nL 54.390625 8.296875 \nL 54.390625 0 \nL 12.40625 0 \nz\n\" id=\"DejaVuSans-49\"/>\n      </defs>\n      <g transform=\"translate(57.488971 122.309841)scale(0.1 -0.1)\">\n       <use xlink:href=\"#DejaVuSans-49\"/>\n       <use x=\"63.623047\" xlink:href=\"#DejaVuSans-48\"/>\n      </g>\n     </g>\n    </g>\n    <g id=\"xtick_3\">\n     <g id=\"line2d_3\">\n      <g>\n       <use style=\"stroke:#000000;stroke-width:0.8;\" x=\"99.019538\" xlink:href=\"#mce437b1a1c\" y=\"107.711404\"/>\n      </g>\n     </g>\n     <g id=\"text_3\">\n      <!-- 20 -->\n      <defs>\n       <path d=\"M 19.1875 8.296875 \nL 53.609375 8.296875 \nL 53.609375 0 \nL 7.328125 0 \nL 7.328125 8.296875 \nQ 12.9375 14.109375 22.625 23.890625 \nQ 32.328125 33.6875 34.8125 36.53125 \nQ 39.546875 41.84375 41.421875 45.53125 \nQ 43.3125 49.21875 43.3125 52.78125 \nQ 43.3125 58.59375 39.234375 62.25 \nQ 35.15625 65.921875 28.609375 65.921875 \nQ 23.96875 65.921875 18.8125 64.3125 \nQ 13.671875 62.703125 7.8125 59.421875 \nL 7.8125 69.390625 \nQ 13.765625 71.78125 18.9375 73 \nQ 24.125 74.21875 28.421875 74.21875 \nQ 39.75 74.21875 46.484375 68.546875 \nQ 53.21875 62.890625 53.21875 53.421875 \nQ 53.21875 48.921875 51.53125 44.890625 \nQ 49.859375 40.875 45.40625 35.40625 \nQ 44.1875 33.984375 37.640625 27.21875 \nQ 31.109375 20.453125 19.1875 8.296875 \nz\n\" id=\"DejaVuSans-50\"/>\n      </defs>\n      <g transform=\"translate(92.657038 122.309841)scale(0.1 -0.1)\">\n       <use xlink:href=\"#DejaVuSans-50\"/>\n       <use x=\"63.623047\" xlink:href=\"#DejaVuSans-48\"/>\n      </g>\n     </g>\n    </g>\n   </g>\n   <g id=\"matplotlib.axis_2\">\n    <g id=\"ytick_1\">\n     <g id=\"line2d_4\">\n      <defs>\n       <path d=\"M 0 0 \nL -3.5 0 \n\" id=\"m30e02eec3f\" style=\"stroke:#000000;stroke-width:0.8;\"/>\n      </defs>\n      <g>\n       <use style=\"stroke:#000000;stroke-width:0.8;\" x=\"26.925\" xlink:href=\"#m30e02eec3f\" y=\"10.999219\"/>\n      </g>\n     </g>\n     <g id=\"text_4\">\n      <!-- 0 -->\n      <g transform=\"translate(13.5625 14.798437)scale(0.1 -0.1)\">\n       <use xlink:href=\"#DejaVuSans-48\"/>\n      </g>\n     </g>\n    </g>\n    <g id=\"ytick_2\">\n     <g id=\"line2d_5\">\n      <g>\n       <use style=\"stroke:#000000;stroke-width:0.8;\" x=\"26.925\" xlink:href=\"#m30e02eec3f\" y=\"46.167286\"/>\n      </g>\n     </g>\n     <g id=\"text_5\">\n      <!-- 10 -->\n      <g transform=\"translate(7.2 49.966505)scale(0.1 -0.1)\">\n       <use xlink:href=\"#DejaVuSans-49\"/>\n       <use x=\"63.623047\" xlink:href=\"#DejaVuSans-48\"/>\n      </g>\n     </g>\n    </g>\n    <g id=\"ytick_3\">\n     <g id=\"line2d_6\">\n      <g>\n       <use style=\"stroke:#000000;stroke-width:0.8;\" x=\"26.925\" xlink:href=\"#m30e02eec3f\" y=\"81.335353\"/>\n      </g>\n     </g>\n     <g id=\"text_6\">\n      <!-- 20 -->\n      <g transform=\"translate(7.2 85.134572)scale(0.1 -0.1)\">\n       <use xlink:href=\"#DejaVuSans-50\"/>\n       <use x=\"63.623047\" xlink:href=\"#DejaVuSans-48\"/>\n      </g>\n     </g>\n    </g>\n   </g>\n   <g id=\"patch_3\">\n    <path d=\"M 26.925 107.711404 \nL 26.925 9.240815 \n\" style=\"fill:none;stroke:#000000;stroke-linecap:square;stroke-linejoin:miter;stroke-width:0.8;\"/>\n   </g>\n   <g id=\"patch_4\">\n    <path d=\"M 125.395588 107.711404 \nL 125.395588 9.240815 \n\" style=\"fill:none;stroke:#000000;stroke-linecap:square;stroke-linejoin:miter;stroke-width:0.8;\"/>\n   </g>\n   <g id=\"patch_5\">\n    <path d=\"M 26.925 107.711404 \nL 125.395588 107.711404 \n\" style=\"fill:none;stroke:#000000;stroke-linecap:square;stroke-linejoin:miter;stroke-width:0.8;\"/>\n   </g>\n   <g id=\"patch_6\">\n    <path d=\"M 26.925 9.240815 \nL 125.395588 9.240815 \n\" style=\"fill:none;stroke:#000000;stroke-linecap:square;stroke-linejoin:miter;stroke-width:0.8;\"/>\n   </g>\n  </g>\n </g>\n <defs>\n  <clipPath id=\"paf9ba55af3\">\n   <rect height=\"98.470588\" width=\"98.470588\" x=\"26.925\" y=\"9.240815\"/>\n  </clipPath>\n </defs>\n</svg>\n",
                        "image/png": "[encoded data removed]"
                    },
                    "metadata": {
                        "needs_background": "light"
                    }
                },
                {
                    "output_type": "display_data",
                    "data": {
                        "text/plain": [
                            "<Figure size 432x288 with 1 Axes>"
                        ],
                        "image/svg+xml": "<?xml version=\"1.0\" encoding=\"utf-8\" standalone=\"no\"?>\n<!DOCTYPE svg PUBLIC \"-//W3C//DTD SVG 1.1//EN\"\n  \"http://www.w3.org/Graphics/SVG/1.1/DTD/svg11.dtd\">\n<!-- Created with matplotlib (https://matplotlib.org/) -->\n<svg height=\"131.589529pt\" version=\"1.1\" viewBox=\"0 0 132.595588 131.589529\" width=\"132.595588pt\" xmlns=\"http://www.w3.org/2000/svg\" xmlns:xlink=\"http://www.w3.org/1999/xlink\">\n <defs>\n  <style type=\"text/css\">\n*{stroke-linecap:butt;stroke-linejoin:round;}\n  </style>\n </defs>\n <g id=\"figure_1\">\n  <g id=\"patch_1\">\n   <path d=\"M 0 131.589529 \nL 132.595588 131.589529 \nL 132.595588 0 \nL 0 0 \nz\n\" style=\"fill:none;\"/>\n  </g>\n  <g id=\"axes_1\">\n   <g id=\"patch_2\">\n    <path d=\"M 26.925 107.711404 \nL 125.395588 107.711404 \nL 125.395588 9.240815 \nL 26.925 9.240815 \nz\n\" style=\"fill:#ffffff;\"/>\n   </g>\n   <g clip-path=\"url(#p284fa5b349)\">\n    <image height=\"99\" id=\"image582ceff739\" transform=\"scale(1 -1)translate(0 -99)\" width=\"99\" x=\"26.925\" xlink:href=\"data:image/png;base64,\niVBORw0KGgoAAAANSUhEUgAAAGMAAABjCAYAAACPO76VAAAABHNCSVQICAgIfAhkiAAAAzFJREFUeJztnL1LcmEYxp9eNBoUoqU/oBAcBRFratHabEg3cRBndyfbbG8oFNcgCKQhIhysFv8EdRBqqQia8wN6t7tznzch3/I5V3n9puvh7sANP+7znM6HC8aYN0Mg+ON1A+QdygCCMoCgDCAoAwjKAIIygKAMICgDCMoAgjKAoAwgKAMIn9cN1Ot1yevr66qWyWQkPz4+WuvJKzgZQFAGEJQBxILx+ElfIpGQfH5+rmoHBweSy+WyrZY8g5MBBGUA4flpysnV1ZVar6ysSI5Go7bbsQ4nAwjKAIIygPD8doiTs7MztXZezsbjcVVrt9s2WrIKJwMIygAC6tLWTafT+TAbY8zu7q7tdmYOJwMIygCCMoCA3jNisZjki4sLVdvb25PcarVstTRTOBlAUAYQ1k9ToVBIrXu93sS/XVpaknx8fKxq29vbkjc3N1Wt3+9/pUXP4GQAQRlAUAYQ1veMQCCg1ouLi5JfXl4mHpfNZtW6Wq1Kvr6+VrVCoaDW9/f3U/fpBZwMICgDCOsPl15fX9V6MBh86ribmxu1fn5+lux898oYY5aXl9WapykyNZQBBGUAYX3PGI/H/3Xc3d2dWu/v70t2XuYa8+++9FPgZABBGUBQBhBQL7FNQ61Wk/z2pu/ouN8kCYfDkrvd7mwb+wKcDCAoAwjoFxI+i/v2x8PDg1o3Gg3JuVxO1YbD4ewamxJOBhCUAQRlAPEr9gw3Ozs7an16eiq5VCqp2uHhoZWePgMnAwjKAOJXnqbcFItFyZVKRdVSqZRk96fPtuFkAEEZQFAGEHOxZ/j9fslHR0eqtra2Jnlra8tWSx/CyQCCMoD4sQ+XpmE0Gkl2P3hy/re+urqqak9PT7NtzAUnAwjKAIIygJiLS1snwWBQrfP5vGT3pa3tn8TgZABBGUDM3WnKTTKZlHx5eTmx1mw2Z94LJwMIygCCMoCY+z3D53u/I3RycqJqkUhE8sbGhqo5vyn8LjgZQFAGEHN/mnLi/sWf29tbyel0WtXcn0J/B5wMICgDCMoAgnsGEJwMICgDCMoAgjKAoAwgKAMIygCCMoCgDCAoAwjKAIIygKAMIP4ClxyiPKmfqaAAAAAASUVORK5CYII=\" y=\"-8.711404\"/>\n   </g>\n   <g id=\"matplotlib.axis_1\">\n    <g id=\"xtick_1\">\n     <g id=\"line2d_1\">\n      <defs>\n       <path d=\"M 0 0 \nL 0 3.5 \n\" id=\"m48c85eff10\" style=\"stroke:#000000;stroke-width:0.8;\"/>\n      </defs>\n      <g>\n       <use style=\"stroke:#000000;stroke-width:0.8;\" x=\"28.683403\" xlink:href=\"#m48c85eff10\" y=\"107.711404\"/>\n      </g>\n     </g>\n     <g id=\"text_1\">\n      <!-- 0 -->\n      <defs>\n       <path d=\"M 31.78125 66.40625 \nQ 24.171875 66.40625 20.328125 58.90625 \nQ 16.5 51.421875 16.5 36.375 \nQ 16.5 21.390625 20.328125 13.890625 \nQ 24.171875 6.390625 31.78125 6.390625 \nQ 39.453125 6.390625 43.28125 13.890625 \nQ 47.125 21.390625 47.125 36.375 \nQ 47.125 51.421875 43.28125 58.90625 \nQ 39.453125 66.40625 31.78125 66.40625 \nz\nM 31.78125 74.21875 \nQ 44.046875 74.21875 50.515625 64.515625 \nQ 56.984375 54.828125 56.984375 36.375 \nQ 56.984375 17.96875 50.515625 8.265625 \nQ 44.046875 -1.421875 31.78125 -1.421875 \nQ 19.53125 -1.421875 13.0625 8.265625 \nQ 6.59375 17.96875 6.59375 36.375 \nQ 6.59375 54.828125 13.0625 64.515625 \nQ 19.53125 74.21875 31.78125 74.21875 \nz\n\" id=\"DejaVuSans-48\"/>\n      </defs>\n      <g transform=\"translate(25.502153 122.309841)scale(0.1 -0.1)\">\n       <use xlink:href=\"#DejaVuSans-48\"/>\n      </g>\n     </g>\n    </g>\n    <g id=\"xtick_2\">\n     <g id=\"line2d_2\">\n      <g>\n       <use style=\"stroke:#000000;stroke-width:0.8;\" x=\"63.851471\" xlink:href=\"#m48c85eff10\" y=\"107.711404\"/>\n      </g>\n     </g>\n     <g id=\"text_2\">\n      <!-- 10 -->\n      <defs>\n       <path d=\"M 12.40625 8.296875 \nL 28.515625 8.296875 \nL 28.515625 63.921875 \nL 10.984375 60.40625 \nL 10.984375 69.390625 \nL 28.421875 72.90625 \nL 38.28125 72.90625 \nL 38.28125 8.296875 \nL 54.390625 8.296875 \nL 54.390625 0 \nL 12.40625 0 \nz\n\" id=\"DejaVuSans-49\"/>\n      </defs>\n      <g transform=\"translate(57.488971 122.309841)scale(0.1 -0.1)\">\n       <use xlink:href=\"#DejaVuSans-49\"/>\n       <use x=\"63.623047\" xlink:href=\"#DejaVuSans-48\"/>\n      </g>\n     </g>\n    </g>\n    <g id=\"xtick_3\">\n     <g id=\"line2d_3\">\n      <g>\n       <use style=\"stroke:#000000;stroke-width:0.8;\" x=\"99.019538\" xlink:href=\"#m48c85eff10\" y=\"107.711404\"/>\n      </g>\n     </g>\n     <g id=\"text_3\">\n      <!-- 20 -->\n      <defs>\n       <path d=\"M 19.1875 8.296875 \nL 53.609375 8.296875 \nL 53.609375 0 \nL 7.328125 0 \nL 7.328125 8.296875 \nQ 12.9375 14.109375 22.625 23.890625 \nQ 32.328125 33.6875 34.8125 36.53125 \nQ 39.546875 41.84375 41.421875 45.53125 \nQ 43.3125 49.21875 43.3125 52.78125 \nQ 43.3125 58.59375 39.234375 62.25 \nQ 35.15625 65.921875 28.609375 65.921875 \nQ 23.96875 65.921875 18.8125 64.3125 \nQ 13.671875 62.703125 7.8125 59.421875 \nL 7.8125 69.390625 \nQ 13.765625 71.78125 18.9375 73 \nQ 24.125 74.21875 28.421875 74.21875 \nQ 39.75 74.21875 46.484375 68.546875 \nQ 53.21875 62.890625 53.21875 53.421875 \nQ 53.21875 48.921875 51.53125 44.890625 \nQ 49.859375 40.875 45.40625 35.40625 \nQ 44.1875 33.984375 37.640625 27.21875 \nQ 31.109375 20.453125 19.1875 8.296875 \nz\n\" id=\"DejaVuSans-50\"/>\n      </defs>\n      <g transform=\"translate(92.657038 122.309841)scale(0.1 -0.1)\">\n       <use xlink:href=\"#DejaVuSans-50\"/>\n       <use x=\"63.623047\" xlink:href=\"#DejaVuSans-48\"/>\n      </g>\n     </g>\n    </g>\n   </g>\n   <g id=\"matplotlib.axis_2\">\n    <g id=\"ytick_1\">\n     <g id=\"line2d_4\">\n      <defs>\n       <path d=\"M 0 0 \nL -3.5 0 \n\" id=\"m06df9da3f5\" style=\"stroke:#000000;stroke-width:0.8;\"/>\n      </defs>\n      <g>\n       <use style=\"stroke:#000000;stroke-width:0.8;\" x=\"26.925\" xlink:href=\"#m06df9da3f5\" y=\"10.999219\"/>\n      </g>\n     </g>\n     <g id=\"text_4\">\n      <!-- 0 -->\n      <g transform=\"translate(13.5625 14.798437)scale(0.1 -0.1)\">\n       <use xlink:href=\"#DejaVuSans-48\"/>\n      </g>\n     </g>\n    </g>\n    <g id=\"ytick_2\">\n     <g id=\"line2d_5\">\n      <g>\n       <use style=\"stroke:#000000;stroke-width:0.8;\" x=\"26.925\" xlink:href=\"#m06df9da3f5\" y=\"46.167286\"/>\n      </g>\n     </g>\n     <g id=\"text_5\">\n      <!-- 10 -->\n      <g transform=\"translate(7.2 49.966505)scale(0.1 -0.1)\">\n       <use xlink:href=\"#DejaVuSans-49\"/>\n       <use x=\"63.623047\" xlink:href=\"#DejaVuSans-48\"/>\n      </g>\n     </g>\n    </g>\n    <g id=\"ytick_3\">\n     <g id=\"line2d_6\">\n      <g>\n       <use style=\"stroke:#000000;stroke-width:0.8;\" x=\"26.925\" xlink:href=\"#m06df9da3f5\" y=\"81.335353\"/>\n      </g>\n     </g>\n     <g id=\"text_6\">\n      <!-- 20 -->\n      <g transform=\"translate(7.2 85.134572)scale(0.1 -0.1)\">\n       <use xlink:href=\"#DejaVuSans-50\"/>\n       <use x=\"63.623047\" xlink:href=\"#DejaVuSans-48\"/>\n      </g>\n     </g>\n    </g>\n   </g>\n   <g id=\"patch_3\">\n    <path d=\"M 26.925 107.711404 \nL 26.925 9.240815 \n\" style=\"fill:none;stroke:#000000;stroke-linecap:square;stroke-linejoin:miter;stroke-width:0.8;\"/>\n   </g>\n   <g id=\"patch_4\">\n    <path d=\"M 125.395588 107.711404 \nL 125.395588 9.240815 \n\" style=\"fill:none;stroke:#000000;stroke-linecap:square;stroke-linejoin:miter;stroke-width:0.8;\"/>\n   </g>\n   <g id=\"patch_5\">\n    <path d=\"M 26.925 107.711404 \nL 125.395588 107.711404 \n\" style=\"fill:none;stroke:#000000;stroke-linecap:square;stroke-linejoin:miter;stroke-width:0.8;\"/>\n   </g>\n   <g id=\"patch_6\">\n    <path d=\"M 26.925 9.240815 \nL 125.395588 9.240815 \n\" style=\"fill:none;stroke:#000000;stroke-linecap:square;stroke-linejoin:miter;stroke-width:0.8;\"/>\n   </g>\n  </g>\n </g>\n <defs>\n  <clipPath id=\"p284fa5b349\">\n   <rect height=\"98.470588\" width=\"98.470588\" x=\"26.925\" y=\"9.240815\"/>\n  </clipPath>\n </defs>\n</svg>\n",
                        "image/png": "[encoded data removed]"
                    },
                    "metadata": {
                        "needs_background": "light"
                    }
                },
                {
                    "output_type": "display_data",
                    "data": {
                        "text/plain": [
                            "<Figure size 432x288 with 1 Axes>"
                        ],
                        "image/svg+xml": "<?xml version=\"1.0\" encoding=\"utf-8\" standalone=\"no\"?>\n<!DOCTYPE svg PUBLIC \"-//W3C//DTD SVG 1.1//EN\"\n  \"http://www.w3.org/Graphics/SVG/1.1/DTD/svg11.dtd\">\n<!-- Created with matplotlib (https://matplotlib.org/) -->\n<svg height=\"131.589529pt\" version=\"1.1\" viewBox=\"0 0 132.595588 131.589529\" width=\"132.595588pt\" xmlns=\"http://www.w3.org/2000/svg\" xmlns:xlink=\"http://www.w3.org/1999/xlink\">\n <defs>\n  <style type=\"text/css\">\n*{stroke-linecap:butt;stroke-linejoin:round;}\n  </style>\n </defs>\n <g id=\"figure_1\">\n  <g id=\"patch_1\">\n   <path d=\"M -0 131.589529 \nL 132.595588 131.589529 \nL 132.595588 0 \nL -0 0 \nz\n\" style=\"fill:none;\"/>\n  </g>\n  <g id=\"axes_1\">\n   <g id=\"patch_2\">\n    <path d=\"M 26.925 107.711404 \nL 125.395588 107.711404 \nL 125.395588 9.240815 \nL 26.925 9.240815 \nz\n\" style=\"fill:#ffffff;\"/>\n   </g>\n   <g clip-path=\"url(#p13429f5a36)\">\n    <image height=\"99\" id=\"image38ca7c6006\" transform=\"scale(1 -1)translate(0 -99)\" width=\"99\" x=\"26.925\" xlink:href=\"data:image/png;base64,\niVBORw0KGgoAAAANSUhEUgAAAGMAAABjCAYAAACPO76VAAAABHNCSVQICAgIfAhkiAAAAgtJREFUeJzt3SFuAkEYQOFZ0iOAR+BAcADC1TAcBMcZwJBg0eBwOAQJBgd1S3fT0qRdhveT96nZbMU0L/9OCyktUkq3JITWqzegO2OAGAPEGCDGADEGiDFAjAFiDBBjgBgDxBggxgD5ePUG/mo8Hpfr1WpVuTeZTCrX0+k0y57+y8kAMQaIMUDCnhn9fv/He4PBIONOmuNkgBgDxBggxgAxBogxQIwBYgwQY4CE/Q281Wp9u47sPb6LN2EMEGOAhD0zrtfrt+vInAwQY4AYA8QYIMYAMQaIMUCMAWIMEGOAGAPEGCDGAAn7qu2jd/q2223u7TTCyQAxBogxQMKeGaPRqFzX3+lbr9e5t9MIJwPEGCBhH1Nf/1TsfD5X7h2Px9zbaYSTAWIMEGOAhDkzut1u5brT6ZTrw+FQubfb7XJsqXFOBogxQMI+ptrtdrmO+qNsnZMBYgwQY4CEOTPqiqJ49RYa52SAGAMkzGPq6wdEppTS7Xb/70Sn0yn3dp7CyQAxBogxQMKcGY8+IHI+n2fcyfM4GSDGAAnzmKq7XC7lejabvW4jDXIyQIwBYgyQMGfGcrmsXA+Hw3Jdf6lksVhk2VPTnAwQY4CEeUzt9/vKda/XK9ebzSb3dp7CyQAxBogxQIqU0u3Xr1IWTgaIMUCMAWIMEGOAGAPEGCDGADEGiDFAjAFiDBBjgHwCCfZAc5BSIwcAAAAASUVORK5CYII=\" y=\"-8.711404\"/>\n   </g>\n   <g id=\"matplotlib.axis_1\">\n    <g id=\"xtick_1\">\n     <g id=\"line2d_1\">\n      <defs>\n       <path d=\"M 0 0 \nL 0 3.5 \n\" id=\"m59b271c90b\" style=\"stroke:#000000;stroke-width:0.8;\"/>\n      </defs>\n      <g>\n       <use style=\"stroke:#000000;stroke-width:0.8;\" x=\"28.683403\" xlink:href=\"#m59b271c90b\" y=\"107.711404\"/>\n      </g>\n     </g>\n     <g id=\"text_1\">\n      <!-- 0 -->\n      <defs>\n       <path d=\"M 31.78125 66.40625 \nQ 24.171875 66.40625 20.328125 58.90625 \nQ 16.5 51.421875 16.5 36.375 \nQ 16.5 21.390625 20.328125 13.890625 \nQ 24.171875 6.390625 31.78125 6.390625 \nQ 39.453125 6.390625 43.28125 13.890625 \nQ 47.125 21.390625 47.125 36.375 \nQ 47.125 51.421875 43.28125 58.90625 \nQ 39.453125 66.40625 31.78125 66.40625 \nz\nM 31.78125 74.21875 \nQ 44.046875 74.21875 50.515625 64.515625 \nQ 56.984375 54.828125 56.984375 36.375 \nQ 56.984375 17.96875 50.515625 8.265625 \nQ 44.046875 -1.421875 31.78125 -1.421875 \nQ 19.53125 -1.421875 13.0625 8.265625 \nQ 6.59375 17.96875 6.59375 36.375 \nQ 6.59375 54.828125 13.0625 64.515625 \nQ 19.53125 74.21875 31.78125 74.21875 \nz\n\" id=\"DejaVuSans-48\"/>\n      </defs>\n      <g transform=\"translate(25.502153 122.309841)scale(0.1 -0.1)\">\n       <use xlink:href=\"#DejaVuSans-48\"/>\n      </g>\n     </g>\n    </g>\n    <g id=\"xtick_2\">\n     <g id=\"line2d_2\">\n      <g>\n       <use style=\"stroke:#000000;stroke-width:0.8;\" x=\"63.851471\" xlink:href=\"#m59b271c90b\" y=\"107.711404\"/>\n      </g>\n     </g>\n     <g id=\"text_2\">\n      <!-- 10 -->\n      <defs>\n       <path d=\"M 12.40625 8.296875 \nL 28.515625 8.296875 \nL 28.515625 63.921875 \nL 10.984375 60.40625 \nL 10.984375 69.390625 \nL 28.421875 72.90625 \nL 38.28125 72.90625 \nL 38.28125 8.296875 \nL 54.390625 8.296875 \nL 54.390625 0 \nL 12.40625 0 \nz\n\" id=\"DejaVuSans-49\"/>\n      </defs>\n      <g transform=\"translate(57.488971 122.309841)scale(0.1 -0.1)\">\n       <use xlink:href=\"#DejaVuSans-49\"/>\n       <use x=\"63.623047\" xlink:href=\"#DejaVuSans-48\"/>\n      </g>\n     </g>\n    </g>\n    <g id=\"xtick_3\">\n     <g id=\"line2d_3\">\n      <g>\n       <use style=\"stroke:#000000;stroke-width:0.8;\" x=\"99.019538\" xlink:href=\"#m59b271c90b\" y=\"107.711404\"/>\n      </g>\n     </g>\n     <g id=\"text_3\">\n      <!-- 20 -->\n      <defs>\n       <path d=\"M 19.1875 8.296875 \nL 53.609375 8.296875 \nL 53.609375 0 \nL 7.328125 0 \nL 7.328125 8.296875 \nQ 12.9375 14.109375 22.625 23.890625 \nQ 32.328125 33.6875 34.8125 36.53125 \nQ 39.546875 41.84375 41.421875 45.53125 \nQ 43.3125 49.21875 43.3125 52.78125 \nQ 43.3125 58.59375 39.234375 62.25 \nQ 35.15625 65.921875 28.609375 65.921875 \nQ 23.96875 65.921875 18.8125 64.3125 \nQ 13.671875 62.703125 7.8125 59.421875 \nL 7.8125 69.390625 \nQ 13.765625 71.78125 18.9375 73 \nQ 24.125 74.21875 28.421875 74.21875 \nQ 39.75 74.21875 46.484375 68.546875 \nQ 53.21875 62.890625 53.21875 53.421875 \nQ 53.21875 48.921875 51.53125 44.890625 \nQ 49.859375 40.875 45.40625 35.40625 \nQ 44.1875 33.984375 37.640625 27.21875 \nQ 31.109375 20.453125 19.1875 8.296875 \nz\n\" id=\"DejaVuSans-50\"/>\n      </defs>\n      <g transform=\"translate(92.657038 122.309841)scale(0.1 -0.1)\">\n       <use xlink:href=\"#DejaVuSans-50\"/>\n       <use x=\"63.623047\" xlink:href=\"#DejaVuSans-48\"/>\n      </g>\n     </g>\n    </g>\n   </g>\n   <g id=\"matplotlib.axis_2\">\n    <g id=\"ytick_1\">\n     <g id=\"line2d_4\">\n      <defs>\n       <path d=\"M 0 0 \nL -3.5 0 \n\" id=\"m5717f67dac\" style=\"stroke:#000000;stroke-width:0.8;\"/>\n      </defs>\n      <g>\n       <use style=\"stroke:#000000;stroke-width:0.8;\" x=\"26.925\" xlink:href=\"#m5717f67dac\" y=\"10.999219\"/>\n      </g>\n     </g>\n     <g id=\"text_4\">\n      <!-- 0 -->\n      <g transform=\"translate(13.5625 14.798437)scale(0.1 -0.1)\">\n       <use xlink:href=\"#DejaVuSans-48\"/>\n      </g>\n     </g>\n    </g>\n    <g id=\"ytick_2\">\n     <g id=\"line2d_5\">\n      <g>\n       <use style=\"stroke:#000000;stroke-width:0.8;\" x=\"26.925\" xlink:href=\"#m5717f67dac\" y=\"46.167286\"/>\n      </g>\n     </g>\n     <g id=\"text_5\">\n      <!-- 10 -->\n      <g transform=\"translate(7.2 49.966505)scale(0.1 -0.1)\">\n       <use xlink:href=\"#DejaVuSans-49\"/>\n       <use x=\"63.623047\" xlink:href=\"#DejaVuSans-48\"/>\n      </g>\n     </g>\n    </g>\n    <g id=\"ytick_3\">\n     <g id=\"line2d_6\">\n      <g>\n       <use style=\"stroke:#000000;stroke-width:0.8;\" x=\"26.925\" xlink:href=\"#m5717f67dac\" y=\"81.335353\"/>\n      </g>\n     </g>\n     <g id=\"text_6\">\n      <!-- 20 -->\n      <g transform=\"translate(7.2 85.134572)scale(0.1 -0.1)\">\n       <use xlink:href=\"#DejaVuSans-50\"/>\n       <use x=\"63.623047\" xlink:href=\"#DejaVuSans-48\"/>\n      </g>\n     </g>\n    </g>\n   </g>\n   <g id=\"patch_3\">\n    <path d=\"M 26.925 107.711404 \nL 26.925 9.240815 \n\" style=\"fill:none;stroke:#000000;stroke-linecap:square;stroke-linejoin:miter;stroke-width:0.8;\"/>\n   </g>\n   <g id=\"patch_4\">\n    <path d=\"M 125.395588 107.711404 \nL 125.395588 9.240815 \n\" style=\"fill:none;stroke:#000000;stroke-linecap:square;stroke-linejoin:miter;stroke-width:0.8;\"/>\n   </g>\n   <g id=\"patch_5\">\n    <path d=\"M 26.925 107.711404 \nL 125.395588 107.711404 \n\" style=\"fill:none;stroke:#000000;stroke-linecap:square;stroke-linejoin:miter;stroke-width:0.8;\"/>\n   </g>\n   <g id=\"patch_6\">\n    <path d=\"M 26.925 9.240815 \nL 125.395588 9.240815 \n\" style=\"fill:none;stroke:#000000;stroke-linecap:square;stroke-linejoin:miter;stroke-width:0.8;\"/>\n   </g>\n  </g>\n </g>\n <defs>\n  <clipPath id=\"p13429f5a36\">\n   <rect height=\"98.470588\" width=\"98.470588\" x=\"26.925\" y=\"9.240815\"/>\n  </clipPath>\n </defs>\n</svg>\n",
                        "image/png": "[encoded data removed]"
                    },
                    "metadata": {
                        "needs_background": "light"
                    }
                },
                {
                    "output_type": "display_data",
                    "data": {
                        "text/plain": [
                            "<Figure size 432x288 with 1 Axes>"
                        ],
                        "image/svg+xml": "<?xml version=\"1.0\" encoding=\"utf-8\" standalone=\"no\"?>\n<!DOCTYPE svg PUBLIC \"-//W3C//DTD SVG 1.1//EN\"\n  \"http://www.w3.org/Graphics/SVG/1.1/DTD/svg11.dtd\">\n<!-- Created with matplotlib (https://matplotlib.org/) -->\n<svg height=\"131.589529pt\" version=\"1.1\" viewBox=\"0 0 132.595588 131.589529\" width=\"132.595588pt\" xmlns=\"http://www.w3.org/2000/svg\" xmlns:xlink=\"http://www.w3.org/1999/xlink\">\n <defs>\n  <style type=\"text/css\">\n*{stroke-linecap:butt;stroke-linejoin:round;}\n  </style>\n </defs>\n <g id=\"figure_1\">\n  <g id=\"patch_1\">\n   <path d=\"M 0 131.589529 \nL 132.595588 131.589529 \nL 132.595588 0 \nL 0 0 \nz\n\" style=\"fill:none;\"/>\n  </g>\n  <g id=\"axes_1\">\n   <g id=\"patch_2\">\n    <path d=\"M 26.925 107.711404 \nL 125.395588 107.711404 \nL 125.395588 9.240815 \nL 26.925 9.240815 \nz\n\" style=\"fill:#ffffff;\"/>\n   </g>\n   <g clip-path=\"url(#p9afe773074)\">\n    <image height=\"99\" id=\"imageb3f778d277\" transform=\"scale(1 -1)translate(0 -99)\" width=\"99\" x=\"26.925\" xlink:href=\"data:image/png;base64,\niVBORw0KGgoAAAANSUhEUgAAAGMAAABjCAYAAACPO76VAAAABHNCSVQICAgIfAhkiAAABEBJREFUeJztnDssbUEUhudwNbQUCiFRaiR6EgrxSrwKlYJCIRIaBRKFUkFEg0KCzjMhREMIpULEIxqhUSBBoiHhdmOtFXs7xz1nn//e+3/VWlln7xn5rZnZs9eemHPuwxEIMtLdAfIJxQCCYgBBMYCgGEBQDCAoBhAUAwiKAQTFAOJX1A3GYjHld3d3e3toaEjFcnNzvb20tKRiBwcH3p6fn1exp6enP+5nOmBmAEExgIi5CHZtc3JyvD02NqZiHR0dP7qnHO46OztVbGNjQ/n39/c/aiNqmBlAUAwgKAYQkcwZo6Oj3u7r60vKPeWc8fGh/4S6ujrlb29vJ6XNVMPMAIJiABHJE3hJSYm37RO4ZGRkRPkPDw+Bv52YmPD2+/u7irW0tCifwxRJGIoBBMUAIpI5Qy497TJUcn19rfzZ2dm47m+3WP5WmBlAUAwgIhmmzs/PvV1dXR34u66uLuWvr697O5Gd1+Xl5QR6hwMzAwiKAQTFACLyN30LCwsq1tDQEHjd1taWt3t7e1VsbW3N24WFhSpWX1+v/P39/fg7m0aYGUBQDCAiGaYkFRUVyt/Z2fnRfTIyPv+PbAFC2NCHDDMDCIoBBMUAIvI5wyLnELt8DRv75RvD09PT0OvsbjAqzAwgKAYQaR+mJDU1NcqXu7aWsLqp4+Nj5Q8MDHgbuTiBmQEExQCCYgABNWesrq4qXy5R7Zu+5+dnbxcUFKhYVlZWYBuDg4PKn5ub8/bt7W38nU0BzAwgKAYQFAOIyOcMW/gsC9Da29tV7PX11du2qkQ+S1xeXqpYcXFxYPty6905566urrxdW1urYhcXF4H3SQXMDCAoBhBpH6be3t68bXdX5edgYUOG3UaxJybIIoienh4VC6v9lacytLW1Bf4uWTAzgKAYQFAMICI/VSeMu7s75ctTdcKQW+Rf3Ue+QTw5OVExubTOzs5WsdbWVm9PT0+r2NTUlLePjo7i6ud3MDOAoBhAQC1tLS8vL962xQryLeDh4aGKZWZmKr+srMzb9mAwWRDR39+vYvKp3/Z7c3PT28kqmmNmAEExgKAYQEAtbS3yu46ZmRkVq6qqCryuqKhI+SsrK4HX7e3tedtWlcg3j+Xl5d93+A9hZgBBMYBI+zA1OTnpbfs5mFwy2k/B5PDS1NSkYrb4TS5fd3d3VayxsdHbj4+PKjY8PBx4XSpgZgBBMYCgGEBEPmfYN2tym0MuZZ1zLj8/39thx1WcnZ0p3xbDyTbsElXuuNqtmby8vMA25REcyYKZAQTFAAKq1jZZ2OFufHzc2/bs9bCCBIms7XXOudLSUm/f3Nwk2sUvYWYAQTGAoBhA/JNzRhiLi4vKb25ujuu6yspK5cvtmGTBzACCYgDx3w1TyDAzgKAYQFAMICgGEBQDCIoBBMUAgmIAQTGAoBhAUAwgKAYQFAMIigEExQCCYgBBMYD4DdcGIW5kdCbGAAAAAElFTkSuQmCC\" y=\"-8.711404\"/>\n   </g>\n   <g id=\"matplotlib.axis_1\">\n    <g id=\"xtick_1\">\n     <g id=\"line2d_1\">\n      <defs>\n       <path d=\"M 0 0 \nL 0 3.5 \n\" id=\"m964b8aee52\" style=\"stroke:#000000;stroke-width:0.8;\"/>\n      </defs>\n      <g>\n       <use style=\"stroke:#000000;stroke-width:0.8;\" x=\"28.683403\" xlink:href=\"#m964b8aee52\" y=\"107.711404\"/>\n      </g>\n     </g>\n     <g id=\"text_1\">\n      <!-- 0 -->\n      <defs>\n       <path d=\"M 31.78125 66.40625 \nQ 24.171875 66.40625 20.328125 58.90625 \nQ 16.5 51.421875 16.5 36.375 \nQ 16.5 21.390625 20.328125 13.890625 \nQ 24.171875 6.390625 31.78125 6.390625 \nQ 39.453125 6.390625 43.28125 13.890625 \nQ 47.125 21.390625 47.125 36.375 \nQ 47.125 51.421875 43.28125 58.90625 \nQ 39.453125 66.40625 31.78125 66.40625 \nz\nM 31.78125 74.21875 \nQ 44.046875 74.21875 50.515625 64.515625 \nQ 56.984375 54.828125 56.984375 36.375 \nQ 56.984375 17.96875 50.515625 8.265625 \nQ 44.046875 -1.421875 31.78125 -1.421875 \nQ 19.53125 -1.421875 13.0625 8.265625 \nQ 6.59375 17.96875 6.59375 36.375 \nQ 6.59375 54.828125 13.0625 64.515625 \nQ 19.53125 74.21875 31.78125 74.21875 \nz\n\" id=\"DejaVuSans-48\"/>\n      </defs>\n      <g transform=\"translate(25.502153 122.309841)scale(0.1 -0.1)\">\n       <use xlink:href=\"#DejaVuSans-48\"/>\n      </g>\n     </g>\n    </g>\n    <g id=\"xtick_2\">\n     <g id=\"line2d_2\">\n      <g>\n       <use style=\"stroke:#000000;stroke-width:0.8;\" x=\"63.851471\" xlink:href=\"#m964b8aee52\" y=\"107.711404\"/>\n      </g>\n     </g>\n     <g id=\"text_2\">\n      <!-- 10 -->\n      <defs>\n       <path d=\"M 12.40625 8.296875 \nL 28.515625 8.296875 \nL 28.515625 63.921875 \nL 10.984375 60.40625 \nL 10.984375 69.390625 \nL 28.421875 72.90625 \nL 38.28125 72.90625 \nL 38.28125 8.296875 \nL 54.390625 8.296875 \nL 54.390625 0 \nL 12.40625 0 \nz\n\" id=\"DejaVuSans-49\"/>\n      </defs>\n      <g transform=\"translate(57.488971 122.309841)scale(0.1 -0.1)\">\n       <use xlink:href=\"#DejaVuSans-49\"/>\n       <use x=\"63.623047\" xlink:href=\"#DejaVuSans-48\"/>\n      </g>\n     </g>\n    </g>\n    <g id=\"xtick_3\">\n     <g id=\"line2d_3\">\n      <g>\n       <use style=\"stroke:#000000;stroke-width:0.8;\" x=\"99.019538\" xlink:href=\"#m964b8aee52\" y=\"107.711404\"/>\n      </g>\n     </g>\n     <g id=\"text_3\">\n      <!-- 20 -->\n      <defs>\n       <path d=\"M 19.1875 8.296875 \nL 53.609375 8.296875 \nL 53.609375 0 \nL 7.328125 0 \nL 7.328125 8.296875 \nQ 12.9375 14.109375 22.625 23.890625 \nQ 32.328125 33.6875 34.8125 36.53125 \nQ 39.546875 41.84375 41.421875 45.53125 \nQ 43.3125 49.21875 43.3125 52.78125 \nQ 43.3125 58.59375 39.234375 62.25 \nQ 35.15625 65.921875 28.609375 65.921875 \nQ 23.96875 65.921875 18.8125 64.3125 \nQ 13.671875 62.703125 7.8125 59.421875 \nL 7.8125 69.390625 \nQ 13.765625 71.78125 18.9375 73 \nQ 24.125 74.21875 28.421875 74.21875 \nQ 39.75 74.21875 46.484375 68.546875 \nQ 53.21875 62.890625 53.21875 53.421875 \nQ 53.21875 48.921875 51.53125 44.890625 \nQ 49.859375 40.875 45.40625 35.40625 \nQ 44.1875 33.984375 37.640625 27.21875 \nQ 31.109375 20.453125 19.1875 8.296875 \nz\n\" id=\"DejaVuSans-50\"/>\n      </defs>\n      <g transform=\"translate(92.657038 122.309841)scale(0.1 -0.1)\">\n       <use xlink:href=\"#DejaVuSans-50\"/>\n       <use x=\"63.623047\" xlink:href=\"#DejaVuSans-48\"/>\n      </g>\n     </g>\n    </g>\n   </g>\n   <g id=\"matplotlib.axis_2\">\n    <g id=\"ytick_1\">\n     <g id=\"line2d_4\">\n      <defs>\n       <path d=\"M 0 0 \nL -3.5 0 \n\" id=\"m0aa7b69825\" style=\"stroke:#000000;stroke-width:0.8;\"/>\n      </defs>\n      <g>\n       <use style=\"stroke:#000000;stroke-width:0.8;\" x=\"26.925\" xlink:href=\"#m0aa7b69825\" y=\"10.999219\"/>\n      </g>\n     </g>\n     <g id=\"text_4\">\n      <!-- 0 -->\n      <g transform=\"translate(13.5625 14.798437)scale(0.1 -0.1)\">\n       <use xlink:href=\"#DejaVuSans-48\"/>\n      </g>\n     </g>\n    </g>\n    <g id=\"ytick_2\">\n     <g id=\"line2d_5\">\n      <g>\n       <use style=\"stroke:#000000;stroke-width:0.8;\" x=\"26.925\" xlink:href=\"#m0aa7b69825\" y=\"46.167286\"/>\n      </g>\n     </g>\n     <g id=\"text_5\">\n      <!-- 10 -->\n      <g transform=\"translate(7.2 49.966505)scale(0.1 -0.1)\">\n       <use xlink:href=\"#DejaVuSans-49\"/>\n       <use x=\"63.623047\" xlink:href=\"#DejaVuSans-48\"/>\n      </g>\n     </g>\n    </g>\n    <g id=\"ytick_3\">\n     <g id=\"line2d_6\">\n      <g>\n       <use style=\"stroke:#000000;stroke-width:0.8;\" x=\"26.925\" xlink:href=\"#m0aa7b69825\" y=\"81.335353\"/>\n      </g>\n     </g>\n     <g id=\"text_6\">\n      <!-- 20 -->\n      <g transform=\"translate(7.2 85.134572)scale(0.1 -0.1)\">\n       <use xlink:href=\"#DejaVuSans-50\"/>\n       <use x=\"63.623047\" xlink:href=\"#DejaVuSans-48\"/>\n      </g>\n     </g>\n    </g>\n   </g>\n   <g id=\"patch_3\">\n    <path d=\"M 26.925 107.711404 \nL 26.925 9.240815 \n\" style=\"fill:none;stroke:#000000;stroke-linecap:square;stroke-linejoin:miter;stroke-width:0.8;\"/>\n   </g>\n   <g id=\"patch_4\">\n    <path d=\"M 125.395588 107.711404 \nL 125.395588 9.240815 \n\" style=\"fill:none;stroke:#000000;stroke-linecap:square;stroke-linejoin:miter;stroke-width:0.8;\"/>\n   </g>\n   <g id=\"patch_5\">\n    <path d=\"M 26.925 107.711404 \nL 125.395588 107.711404 \n\" style=\"fill:none;stroke:#000000;stroke-linecap:square;stroke-linejoin:miter;stroke-width:0.8;\"/>\n   </g>\n   <g id=\"patch_6\">\n    <path d=\"M 26.925 9.240815 \nL 125.395588 9.240815 \n\" style=\"fill:none;stroke:#000000;stroke-linecap:square;stroke-linejoin:miter;stroke-width:0.8;\"/>\n   </g>\n  </g>\n </g>\n <defs>\n  <clipPath id=\"p9afe773074\">\n   <rect height=\"98.470588\" width=\"98.470588\" x=\"26.925\" y=\"9.240815\"/>\n  </clipPath>\n </defs>\n</svg>\n",
                        "image/png": "[encoded data removed]"
                    },
                    "metadata": {
                        "needs_background": "light"
                    }
                },
                {
                    "output_type": "display_data",
                    "data": {
                        "text/plain": [
                            "<Figure size 432x288 with 1 Axes>"
                        ],
                        "image/svg+xml": "<?xml version=\"1.0\" encoding=\"utf-8\" standalone=\"no\"?>\n<!DOCTYPE svg PUBLIC \"-//W3C//DTD SVG 1.1//EN\"\n  \"http://www.w3.org/Graphics/SVG/1.1/DTD/svg11.dtd\">\n<!-- Created with matplotlib (https://matplotlib.org/) -->\n<svg height=\"131.589529pt\" version=\"1.1\" viewBox=\"0 0 132.595588 131.589529\" width=\"132.595588pt\" xmlns=\"http://www.w3.org/2000/svg\" xmlns:xlink=\"http://www.w3.org/1999/xlink\">\n <defs>\n  <style type=\"text/css\">\n*{stroke-linecap:butt;stroke-linejoin:round;}\n  </style>\n </defs>\n <g id=\"figure_1\">\n  <g id=\"patch_1\">\n   <path d=\"M 0 131.589529 \nL 132.595588 131.589529 \nL 132.595588 0 \nL 0 0 \nz\n\" style=\"fill:none;\"/>\n  </g>\n  <g id=\"axes_1\">\n   <g id=\"patch_2\">\n    <path d=\"M 26.925 107.711404 \nL 125.395588 107.711404 \nL 125.395588 9.240815 \nL 26.925 9.240815 \nz\n\" style=\"fill:#ffffff;\"/>\n   </g>\n   <g clip-path=\"url(#p200a62e9e4)\">\n    <image height=\"99\" id=\"image8220f937b1\" transform=\"scale(1 -1)translate(0 -99)\" width=\"99\" x=\"26.925\" xlink:href=\"data:image/png;base64,\niVBORw0KGgoAAAANSUhEUgAAAGMAAABjCAYAAACPO76VAAAABHNCSVQICAgIfAhkiAAABM5JREFUeJztnUsotlsUx9d38OWWS2EgMjVRlEsJE5SZpIR8AzMpueSSATIyUVKihAGS5DaQMmHCzEBfEiVJKHJJSHI7s/Xttc953vOe53vwd876jf6r9T7P3vq39t7v8+x3+0ZEb6RA8Mdnd0D5hZoBhJoBhJoBhJoBhJoBhJoBhJoBhJoBhJoBhJoBhJoBhJoBhJoBhJoBhJoBhJoBRKDbC9/e5AvC19dX1ouLiyLX0dHBemdnx1V7YWFhIq6oqGDd2dkpctfX1yJeXl5m3dvbK3J3d3esHx8fXfXNK7QygFAzgPhGLjckXF1diTgyMtLxs8fHx6z7+vpEbmBggPXz87PIBQb+GkWnp6dFrqSkxP/O+qC7u5v12NiYyJn9/gi0MoBQM4BQM4BwPWekp6eLeGRkhHVKSorf9zGXnaurqyIXERHB2l6+muzu7orYXK4SEaWmprI25yGbm5sbEZtzSFdXl8jd39873sctWhlAqBlAuB6mbEJDQ1kPDg6K3I8fP7xowpG8vDwRb2xsiDgnJ4d1fn6+yFVXV7NOTEx0bGNzc1PETU1Nju25RSsDCDUDCDUDCM/mDBNz/iCSc4hX88fU1BTrmpoakfs3y86EhATWjY2NItfQ0OB43eXlJevZ2VmRq62t9bt9E60MINQMIN5lmLIJCQlhPTw8LHKVlZWO15nDTWlpqcitr6+zfnh4+N0uEhHR9+/fRZyZmcnaHopiY2Md7xMQEOCqfa0MINQMINQMID5kzjAJCgoS8fj4OOuysjLH637+/CnijIwM1vYbwvfAXq6npaWxjo6OFrmlpSVXbWhlAKFmAPHhw5QvDg4ORJyUlOT42dPTU9a5ubkid3h46Gm/PgqtDCDUDCDUDCCg5gz7MYK57C0vL3e8ztzUQETU3t4u4u3tbQ969/5oZQChZgChZgABNWfYBAcHszZ3cRDJDdM29hxSV1fHGvk7iFYGEGoGENDDlMnvbHIwH50UFhaKnL1P9zPRygBCzQBCzQDiy8wZNuYcMjQ0JHJVVVWO152cnIjYnEP29vY86p07tDKAUDOA+LLDlIn5TZ2IaHR0VMS+nvjOzc2xNk9yIPr4YUsrAwg1Awg1A4hPnzOysrJYr6ysiFxxcTFr+3dzvjau2W8Mzfj29lbkzJ8ib21tiZy58fnl5cWxPa/QygBCzQDC9eFfXpGcnMw6PDxc5MwTE2ZmZkSuvr6e9fn5ucjZQ4oZz8/Pi5y5v9c8SYGIqKenh3Vra+vf/wEeopUBhJoBhJoBxKcvbU3sxxb9/f2sY2JiRO7i4oK1/dR2YWFBxL4OqTR/S1FQUCByZ2dnrM0jL4j+uknbC7QygFAzgIAapmzMZW9zc7PI2fuofLG2tsbaXK4SEcXFxbGenJx0vId9Hm5bW5vf7fuLVgYQagYQagYQ0HOGiXnkBRFRUVERa/NUNCKi7Oxsv+9rbnCLj493/Jx9vrr56MSrw4i1MoBQM4D4MsOUL+x/52Dvp52YmGBt79n1F18vvp6enlzd00YrAwg1Awg1A4j/xJzxT5in3rS0tIhcVFQUa/vgyaOjI9b2E939/X0vu0hEWhlQqBlA/C+Gqa+CVgYQagYQagYQagYQagYQagYQagYQagYQagYQagYQfwJ0oTUSl1cIuQAAAABJRU5ErkJggg==\" y=\"-8.711404\"/>\n   </g>\n   <g id=\"matplotlib.axis_1\">\n    <g id=\"xtick_1\">\n     <g id=\"line2d_1\">\n      <defs>\n       <path d=\"M 0 0 \nL 0 3.5 \n\" id=\"me5ec7768c7\" style=\"stroke:#000000;stroke-width:0.8;\"/>\n      </defs>\n      <g>\n       <use style=\"stroke:#000000;stroke-width:0.8;\" x=\"28.683403\" xlink:href=\"#me5ec7768c7\" y=\"107.711404\"/>\n      </g>\n     </g>\n     <g id=\"text_1\">\n      <!-- 0 -->\n      <defs>\n       <path d=\"M 31.78125 66.40625 \nQ 24.171875 66.40625 20.328125 58.90625 \nQ 16.5 51.421875 16.5 36.375 \nQ 16.5 21.390625 20.328125 13.890625 \nQ 24.171875 6.390625 31.78125 6.390625 \nQ 39.453125 6.390625 43.28125 13.890625 \nQ 47.125 21.390625 47.125 36.375 \nQ 47.125 51.421875 43.28125 58.90625 \nQ 39.453125 66.40625 31.78125 66.40625 \nz\nM 31.78125 74.21875 \nQ 44.046875 74.21875 50.515625 64.515625 \nQ 56.984375 54.828125 56.984375 36.375 \nQ 56.984375 17.96875 50.515625 8.265625 \nQ 44.046875 -1.421875 31.78125 -1.421875 \nQ 19.53125 -1.421875 13.0625 8.265625 \nQ 6.59375 17.96875 6.59375 36.375 \nQ 6.59375 54.828125 13.0625 64.515625 \nQ 19.53125 74.21875 31.78125 74.21875 \nz\n\" id=\"DejaVuSans-48\"/>\n      </defs>\n      <g transform=\"translate(25.502153 122.309841)scale(0.1 -0.1)\">\n       <use xlink:href=\"#DejaVuSans-48\"/>\n      </g>\n     </g>\n    </g>\n    <g id=\"xtick_2\">\n     <g id=\"line2d_2\">\n      <g>\n       <use style=\"stroke:#000000;stroke-width:0.8;\" x=\"63.851471\" xlink:href=\"#me5ec7768c7\" y=\"107.711404\"/>\n      </g>\n     </g>\n     <g id=\"text_2\">\n      <!-- 10 -->\n      <defs>\n       <path d=\"M 12.40625 8.296875 \nL 28.515625 8.296875 \nL 28.515625 63.921875 \nL 10.984375 60.40625 \nL 10.984375 69.390625 \nL 28.421875 72.90625 \nL 38.28125 72.90625 \nL 38.28125 8.296875 \nL 54.390625 8.296875 \nL 54.390625 0 \nL 12.40625 0 \nz\n\" id=\"DejaVuSans-49\"/>\n      </defs>\n      <g transform=\"translate(57.488971 122.309841)scale(0.1 -0.1)\">\n       <use xlink:href=\"#DejaVuSans-49\"/>\n       <use x=\"63.623047\" xlink:href=\"#DejaVuSans-48\"/>\n      </g>\n     </g>\n    </g>\n    <g id=\"xtick_3\">\n     <g id=\"line2d_3\">\n      <g>\n       <use style=\"stroke:#000000;stroke-width:0.8;\" x=\"99.019538\" xlink:href=\"#me5ec7768c7\" y=\"107.711404\"/>\n      </g>\n     </g>\n     <g id=\"text_3\">\n      <!-- 20 -->\n      <defs>\n       <path d=\"M 19.1875 8.296875 \nL 53.609375 8.296875 \nL 53.609375 0 \nL 7.328125 0 \nL 7.328125 8.296875 \nQ 12.9375 14.109375 22.625 23.890625 \nQ 32.328125 33.6875 34.8125 36.53125 \nQ 39.546875 41.84375 41.421875 45.53125 \nQ 43.3125 49.21875 43.3125 52.78125 \nQ 43.3125 58.59375 39.234375 62.25 \nQ 35.15625 65.921875 28.609375 65.921875 \nQ 23.96875 65.921875 18.8125 64.3125 \nQ 13.671875 62.703125 7.8125 59.421875 \nL 7.8125 69.390625 \nQ 13.765625 71.78125 18.9375 73 \nQ 24.125 74.21875 28.421875 74.21875 \nQ 39.75 74.21875 46.484375 68.546875 \nQ 53.21875 62.890625 53.21875 53.421875 \nQ 53.21875 48.921875 51.53125 44.890625 \nQ 49.859375 40.875 45.40625 35.40625 \nQ 44.1875 33.984375 37.640625 27.21875 \nQ 31.109375 20.453125 19.1875 8.296875 \nz\n\" id=\"DejaVuSans-50\"/>\n      </defs>\n      <g transform=\"translate(92.657038 122.309841)scale(0.1 -0.1)\">\n       <use xlink:href=\"#DejaVuSans-50\"/>\n       <use x=\"63.623047\" xlink:href=\"#DejaVuSans-48\"/>\n      </g>\n     </g>\n    </g>\n   </g>\n   <g id=\"matplotlib.axis_2\">\n    <g id=\"ytick_1\">\n     <g id=\"line2d_4\">\n      <defs>\n       <path d=\"M 0 0 \nL -3.5 0 \n\" id=\"mbdd57ec08b\" style=\"stroke:#000000;stroke-width:0.8;\"/>\n      </defs>\n      <g>\n       <use style=\"stroke:#000000;stroke-width:0.8;\" x=\"26.925\" xlink:href=\"#mbdd57ec08b\" y=\"10.999219\"/>\n      </g>\n     </g>\n     <g id=\"text_4\">\n      <!-- 0 -->\n      <g transform=\"translate(13.5625 14.798438)scale(0.1 -0.1)\">\n       <use xlink:href=\"#DejaVuSans-48\"/>\n      </g>\n     </g>\n    </g>\n    <g id=\"ytick_2\">\n     <g id=\"line2d_5\">\n      <g>\n       <use style=\"stroke:#000000;stroke-width:0.8;\" x=\"26.925\" xlink:href=\"#mbdd57ec08b\" y=\"46.167286\"/>\n      </g>\n     </g>\n     <g id=\"text_5\">\n      <!-- 10 -->\n      <g transform=\"translate(7.2 49.966505)scale(0.1 -0.1)\">\n       <use xlink:href=\"#DejaVuSans-49\"/>\n       <use x=\"63.623047\" xlink:href=\"#DejaVuSans-48\"/>\n      </g>\n     </g>\n    </g>\n    <g id=\"ytick_3\">\n     <g id=\"line2d_6\">\n      <g>\n       <use style=\"stroke:#000000;stroke-width:0.8;\" x=\"26.925\" xlink:href=\"#mbdd57ec08b\" y=\"81.335353\"/>\n      </g>\n     </g>\n     <g id=\"text_6\">\n      <!-- 20 -->\n      <g transform=\"translate(7.2 85.134572)scale(0.1 -0.1)\">\n       <use xlink:href=\"#DejaVuSans-50\"/>\n       <use x=\"63.623047\" xlink:href=\"#DejaVuSans-48\"/>\n      </g>\n     </g>\n    </g>\n   </g>\n   <g id=\"patch_3\">\n    <path d=\"M 26.925 107.711404 \nL 26.925 9.240815 \n\" style=\"fill:none;stroke:#000000;stroke-linecap:square;stroke-linejoin:miter;stroke-width:0.8;\"/>\n   </g>\n   <g id=\"patch_4\">\n    <path d=\"M 125.395588 107.711404 \nL 125.395588 9.240815 \n\" style=\"fill:none;stroke:#000000;stroke-linecap:square;stroke-linejoin:miter;stroke-width:0.8;\"/>\n   </g>\n   <g id=\"patch_5\">\n    <path d=\"M 26.925 107.711404 \nL 125.395588 107.711404 \n\" style=\"fill:none;stroke:#000000;stroke-linecap:square;stroke-linejoin:miter;stroke-width:0.8;\"/>\n   </g>\n   <g id=\"patch_6\">\n    <path d=\"M 26.925 9.240815 \nL 125.395588 9.240815 \n\" style=\"fill:none;stroke:#000000;stroke-linecap:square;stroke-linejoin:miter;stroke-width:0.8;\"/>\n   </g>\n  </g>\n </g>\n <defs>\n  <clipPath id=\"p200a62e9e4\">\n   <rect height=\"98.470588\" width=\"98.470588\" x=\"26.925\" y=\"9.240815\"/>\n  </clipPath>\n </defs>\n</svg>\n",
                        "image/png": "[encoded data removed]"
                    },
                    "metadata": {
                        "needs_background": "light"
                    }
                }
            ],
            "metadata": {}
        },
        {
            "cell_type": "markdown",
            "source": [
                "  #Random note : The good qualities for Activation functions are non linearity and diffirentiability\n",
                "\n",
                "    ReLU - Rectified Liear Activation Function:\n",
                "        - It's fast, non-linear, diffirentiable, NO VANISHING GRADIENT ISSUE\n",
                "        - Can't deal with negative inputs (won't support back propogation), neurons die.\n",
                "\n",
                "    Leaky ReLU - Variation of ReaLU that deals with the dying neurons\n",
                "        - Derivative is not zero, just a very small fraction. So neurons won't stop learning during back propogation\n",
                "    \n",
                "    Sigmoid - Output range b/w 0 and 1\n",
                "        - non-linear, diffirentiable, good for binary classification properties\n",
                "        - VANISHING GRADIENT PROBLEM, Slow computation\n",
                "    \n",
                "    Tanh - Output Range b/w +1 to -1\n",
                "        - non linear and diffirentiable \n",
                "        - can be used to transform outputs to a negative value\n",
                "        - VANISHING GRADIENT ISSUE\n",
                "    \n",
                "    SoftMax - Produce Probability distribution as a vector ranging b/w 0 and 1\n",
                "        - Good for Multiclass classification\n"
            ],
            "metadata": {}
        },
        {
            "cell_type": "code",
            "execution_count": 6,
            "source": [
                "#Creating the Neural Net :  \n",
                "#Selectig the activation function:\n",
                "\n",
                "#To implement a FNN - we require linear and non linear layers\n",
                "class NeuralNet(nn.Module):\n",
                "    def __init__(self, inputSize, hiddenSize, outputSize):\n",
                "\n",
                "        super(NeuralNet, self).__init__()\n",
                "        #The linear function\n",
                "        self.LinFunc1 = nn.Linear(inputSize, hiddenSize)\n",
                "        #The non linear function\n",
                "        self.sigFunc = torch.nn.Sigmoid()\n",
                "        #The Linear readout\n",
                "        self.LinFunc2 = nn.Linear(hiddenSize, outputSize)\n",
                "\n",
                "    def feedForward(self, x):\n",
                "        \n",
                "        #Output from Linear function\n",
                "        output = self.LinFunc1(x)\n",
                "        #Send this output to non linear function\n",
                "        output = self.sigFunc(output)\n",
                "        #To the read out linear layer\n",
                "        output = self.LinFunc2(output)\n",
                "\n",
                "        return output\n",
                "\n",
                "        "
            ],
            "outputs": [],
            "metadata": {}
        },
        {
            "cell_type": "code",
            "execution_count": 7,
            "source": [
                "#Instantiate the model class\n",
                "model = NeuralNet(input_size, hidden_size, output_size)"
            ],
            "outputs": [],
            "metadata": {}
        },
        {
            "cell_type": "markdown",
            "source": [
                "The Loss Function : As a part of training a deep learning model, we require to choose an error function that caan be used to estimate an error value, in order to update the model for reduction of over all errors\n",
                "\n",
                "(Specific to Regression Loss Functions)\n",
                "\n",
                "-> Mean Squared Error Loss (MSE)\n",
                "\n",
                "-> Mean Squared logarithimic loss\n",
                "\n",
                "-> Mean Absolute Error Loss\n",
                "\n",
                "(Specific to Binary Classifications)\n",
                "\n",
                "-> Cross-Entropy\n",
                "\n",
                "-> Hinge Loss\n",
                "\n",
                "-> Squared Hinge Loss\n",
                "\n",
                "(Specific to Multi-Class Classification Loss Functions)\n",
                "\n",
                "-> Multi-Class Cross-Entropy Loss\n",
                "\n",
                "-> Sparse Multiclass Cross-Entropy Loss\n",
                "\n",
                "-> Kullback Leibler Divergence Loss\n"
            ],
            "metadata": {}
        },
        {
            "cell_type": "code",
            "execution_count": 8,
            "source": [
                "#Initializing the Loss Class\n",
                "'''Multiclass classification - going for the CrossEntropyLoss\n",
                "It does 2 things at the same time.\n",
                "1. Computes softmax (logistic/softmax function)\n",
                "2. Computes cross entropy\n",
                "\n",
                "Cross-entropy will calculate a score that summarizes the average difference between the actual and predicted probability distributions for all classes in the problem. The score is minimized and a perfect cross-entropy value is 0.''' \n",
                "\n",
                "lossFunction = nn.CrossEntropyLoss()"
            ],
            "outputs": [],
            "metadata": {}
        },
        {
            "cell_type": "markdown",
            "source": [
                "How do I MANUALLY optimize the weights of my neural network?\n",
                "\n",
                "Stochastic gradient descent optimization algorithm\n",
                "    -> Errors are assigned proportionally based on network weights (backpropogation algorithm)\n"
            ],
            "metadata": {}
        },
        {
            "cell_type": "code",
            "execution_count": 9,
            "source": [
                "#We will stick to the Stochastic Gradient Decent(SGD)\n",
                "#parameters = parameters - learning_rate * parameters_gradients\n",
                "optimizationFunction = torch.optim.SGD(model.parameters(), lr=learning_rate)"
            ],
            "outputs": [],
            "metadata": {}
        },
        {
            "cell_type": "markdown",
            "source": [
                "How does Softmax WORK?\n",
                "\n",
                "    -> Find the dot parameters and Datapoints\n",
                "    -> Exponentiate values to remove negative dot products\n",
                "    -> Normalize it to get the Probability Distribution\n",
                "\n"
            ],
            "metadata": {}
        },
        {
            "cell_type": "markdown",
            "source": [
                "NOTE : Non-linear layers have no parameters to update. They are merely mathematical functions performed on Y, the output of our linear layers."
            ],
            "metadata": {}
        },
        {
            "cell_type": "code",
            "execution_count": 10,
            "source": [
                "print(model.parameters()) #returns generator object, \n",
                "#so we'll need a list\n",
                "print(len(list(model.parameters())))\n",
                "\n",
                "#So we have 4 parameters\n",
                "print(list(model.parameters())[0].size())\n",
                "print(list(model.parameters())[1].size())\n",
                "#LAYER 1: A1 - linear layer parameters\n",
                "#LAYER 2: B1 - linear layer bias parameters\n",
                "#Output of First Linear Function : A1.X1 + B1\n",
                "print(list(model.parameters())[2].size())\n",
                "print(list(model.parameters())[3].size())\n",
                "#LAYER 3: A2 - readout layer parameters\n",
                "#LAYER 4: B2 - readout layer bias parameters\n",
                "#Output of Hidden Layer : A2.X2 + B2"
            ],
            "outputs": [
                {
                    "output_type": "stream",
                    "name": "stdout",
                    "text": [
                        "<generator object Module.parameters at 0x7f4f7f1eded0>\n",
                        "4\n",
                        "torch.Size([100, 784])\n",
                        "torch.Size([100])\n",
                        "torch.Size([10, 100])\n",
                        "torch.Size([10])\n"
                    ]
                }
            ],
            "metadata": {}
        },
        {
            "cell_type": "markdown",
            "source": [
                "Steps involved in Training the Model:\n",
                "\n",
                "    For each Epoch:\n",
                "\n",
                "        For each i in load_trainData:\n",
                "\n",
                "            1) Convert inputs to Tensors capable of gradient accumilation\n",
                "            2) Clear Gradient Buffers\n",
                "            3) Get outputs\n",
                "            4) Get Loss functions\n",
                "            5) Get gradients with respect to parameters\n",
                "            6) Update parameters using gradients\n"
            ],
            "metadata": {}
        },
        {
            "cell_type": "code",
            "execution_count": 11,
            "source": [
                "itter = 0\n",
                "for epoch in range(epochs):\n",
                "    for i, (images, labels) in enumerate(load_trainData):\n",
                "\n",
                "        #Load Image\n",
                "        images = images.view(-1, 28*28).requires_grad()\n",
                "        #Make image capable of gradient accumilation? -> set required_grad() flag to true\n",
                "        '''\n",
                "        Gradient Accumilation - mechanism to split a batch of samples into mini batches(sequentially executed)\n",
                "        It's a logical split. You basically allow a configured number of calculations to take place without value updation. \n",
                "        The values are finally updated through a gradient that is calculated for each input. \n",
                "        '''\n",
                "\n",
                "        #Clear gradients w.r.t parameters:\n",
                "        optimizationFunction.zero_grad()\n",
                "\n",
                "        #Pass image to model\n",
                "        output = model(images)\n",
                "\n",
                "        #Loss Calculation\n",
                "        loss = lossFunction(output, labels)\n",
                "\n",
                "        #Get Gradients for each \n",
                "        loss.backward()\n",
                "\n",
                "        #updating parameters\n",
                "        optimizationFunction.step()\n",
                "\n",
                "        iter += 1\n",
                "\n",
                "'''\n",
                "        #ACCURACY CALCULATION\n",
                "        if iter % 500 == 0:\n",
                "            correct = 0\n",
                "            total = 0\n",
                "\n",
                "        # Iterate through test dataset\n",
                "            for images, labels in test_loader:\n",
                "                # Load images with gradient accumulation capabilities\n",
                "                images = images.view(-1, 28*28).requires_grad_()\n",
                "\n",
                "                # Forward pass only to get logits/output\n",
                "                outputs = model(images)\n",
                "\n",
                "                # Get predictions from the maximum value\n",
                "                _, predicted = torch.max(outputs.data, 1)\n",
                "\n",
                "                # Total number of labels\n",
                "                total += labels.size(0)\n",
                "\n",
                "                # Total correct predictions\n",
                "                correct += (predicted == labels).sum()\n",
                "\n",
                "            accuracy = 100 * correct / total\n",
                "\n",
                "            # Print Loss\n",
                "            print('Iteration: {}. Loss: {}. Accuracy: {}'.format(iter, loss.item(), accuracy))\n",
                "'''\n"
            ],
            "outputs": [],
            "metadata": {}
        }
    ],
    "metadata": {
        "orig_nbformat": 4,
        "language_info": {
            "name": "python",
            "version": "3.7.6",
            "mimetype": "text/x-python",
            "codemirror_mode": {
                "name": "ipython",
                "version": 3
            },
            "pygments_lexer": "ipython3",
            "nbconvert_exporter": "python",
            "file_extension": ".py"
        },
        "kernelspec": {
            "name": "python3",
            "display_name": "Python 3.7.6 64-bit ('base': conda)"
        },
        "interpreter": {
            "hash": "086be1427ca05b2af312932b7165838409742844383f947360d93b21591334d7"
        }
    },
    "nbformat": 4,
    "nbformat_minor": 2
}