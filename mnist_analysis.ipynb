{
    "cells": [
        {
            "cell_type": "markdown",
            "source": [
                "\n",
                "MNIST - computer vision dataset\n",
                "28x28 pixel images (28x28 array of each image)\n",
                "    we can flatten each array into a 28∗28=784 dimensional vector\n",
                "        So MNIST can be thought of as a collection of 784-dimensional vectors.\n",
                "\n",
                "What does it mean to capture the global geometry of the data?\n",
                "If the distances between points in our visualization d(i,j) = distances between the points in original space d(∗i,j)\n",
                "\n",
                "Multidimentional Scaling(MDS) - Pick a random point, start applying gradient decent\n",
                "\n",
                "Sammon's Mapping : preserve the distances between nearby points than between those which are far apart\n"
            ],
            "metadata": {}
        },
        {
            "cell_type": "code",
            "execution_count": 13,
            "source": [
                "import torch\n",
                "import torchvision\n",
                "import torch.nn as nn #Module to train NN\n",
                "import torchvision.transforms as transforms"
            ],
            "outputs": [],
            "metadata": {}
        },
        {
            "cell_type": "markdown",
            "source": [
                "#PRE PROCESSING \n",
                "\n",
                "torchvision.transforms - editing the image properties\n",
                "\n",
                "transforms.ToTensor -> convert image to tensor(numbers)\n",
                "\n",
                "   seperating the RGB channels\n",
                "   convert pixels of each image to brightness of color b/w 0 n 255\n",
                "   scale all values down to fit b/w the range of 0 n 1\n",
                "\n",
                "transforms.Normalize(mean, stdDev, inplace) -> change the range of pixel intensity values (apply contrast)\n",
                "\n",
                "inplace - apply changes to current tensor\n",
                "\n",
                "MNIST was apparently binary, but the resizing resulted in it having additional greyscale values.\n",
                "\n",
                "normalize by dividing all values by 255 (not the sum of all pixel values) to bring it to the 0-1 range\n"
            ],
            "metadata": {}
        },
        {
            "cell_type": "code",
            "execution_count": 14,
            "source": [
                "#Importing MNIST (test and train)\n",
                "train_ds = torchvision.datasets.MNIST(root='/home/sweedy/Desktop/DiagnosisOfPathologicalPlants/MNIST', \n",
                "        train=True,\n",
                "        transform = transforms.ToTensor(),\n",
                "        download=True)\n",
                "\n",
                "test_ds = torchvision.datasets.MNIST(root='/home/sweedy/Desktop/DiagnosisOfPathologicalPlants/MNIST', \n",
                "        train=False,\n",
                "        transform = transforms.ToTensor())\n",
                "\n",
                "#print(len(train_ds))\n",
                "#print(len(test_ds))\n",
                "        "
            ],
            "outputs": [],
            "metadata": {}
        },
        {
            "cell_type": "code",
            "execution_count": 15,
            "source": [
                "#Defining Hyper parameters for The neural Network\n",
                "\n",
                "#output size is what we are trying to predict. (Output dimensions 0, 1, 2, 3, 4, 5, 6, 7, 8, 9 = 10)\n",
                "#input size is determined by the size of the image - 784\n",
                "#hidden layers - no. of non linear activation functions, so we'll try with a 100 since this isn't a very large dataset\n",
                "input_size = 784 # 28x28\n",
                "hidden_size = 100\n",
                "output_size = 10\n",
                "\n",
                "#Trying to implement 5 epochs with 600 itterations each : batch size per itteration is 100\n",
                "batch_size = 100\n",
                "num_of_itterations = 3000 #3000 / 6000 / 100 ~ 5 epochs\n",
                "epochs = int(num_of_itterations / (len(train_ds) / batch_size))\n",
                "\n",
                "#Learning Rate -Too high - too unstable, too low, too slow.\n",
                "#We could try a high learning rate? if we subsequently reduce it.\n",
                "learning_rate = 0.1"
            ],
            "outputs": [],
            "metadata": {}
        },
        {
            "cell_type": "markdown",
            "source": [
                "#Techniques for training NEURAL NETWORKS:\n",
                "\n",
                "Neural networks are trained using the stochastic gradient descent optimization algorithm.\n",
                "\n",
                "BATCH : Optimization algorithms that use the entire training set are called batch or deterministic gradient methods, because they process all of the training examples simultaneously in a large batch.\n",
                "ONLINE : Optimization algorithms that use only a single example at a time are sometimes called stochastic or sometimes online methods.\n",
                "\n",
                "BATCH V.S ONLINE\n",
                "\n",
                "        BATCH -> Implementable for feedforward networks\n",
                "        \n",
                "        ONLINE -> Good for back propogation Algorithms always   "
            ],
            "metadata": {}
        },
        {
            "cell_type": "markdown",
            "source": [
                "#Attempting to design a Simple Feed forward NN by using Batch/Deterministic Training methods:\n",
                "\n",
                "Terminology related to Batch Gradient Decent:\n",
                "\n",
                "Batch Size - number of training examples used in error estimation\n",
                "    -> Batch Gradient Descent - Batch size is set to the total number of examples in the training dataset.\n",
                "    -> Stochastic Gradient Descent - Batch size is set to one.\n",
                "    -> Minibatch Gradient Descent - Batch size is set to more than one and less than the total number of examples in the training dataset.\n",
                "\n",
                "Smaller Batch Sizes are prefered\n",
                "(Reasoning behind it: regularization effect on the generalization error becuase of all the noise + fitting training data in limited GPU memory)\n",
                "\n",
                "HOW AM I LOADING THE DATASET? Early Loading or Lazy Loading\n",
                "DataLoader class - arrange dataset class into small batches using a few randomization techniques\n"
            ],
            "metadata": {}
        },
        {
            "cell_type": "code",
            "execution_count": 16,
            "source": [
                "#Load Train and Test MNIST Datasets\n",
                "load_trainData = torch.utils.data.DataLoader(dataset=train_ds, batch_size=batch_size, shuffle=True) #Will randomly load a shuffled batch of train data of size ~ 100\n",
                "load_testData = torch.utils.data.DataLoader(dataset=test_ds, batch_size=batch_size, shuffle=False) #No need to shuffle the Test data"
            ],
            "outputs": [],
            "metadata": {}
        },
        {
            "cell_type": "code",
            "execution_count": 17,
            "source": [
                "#Visualization\n",
                "import matplotlib.pyplot as plt\n",
                "\n",
                "examples = iter(load_trainData) #or load_testData\n",
                "example_data, example_target = examples.next()\n",
                "\n",
                "#Set the range to 6, else you end up with the below error\n",
                "#ValueError: num must be 1 <= num <= 6\n",
                "for i in range(6):\n",
                "    plt.subplot(2, 3, i+1)\n",
                "    plt.imshow(example_data[i][0], cmap='gray')\n",
                "    plt.show()\n"
            ],
            "outputs": [
                {
                    "output_type": "display_data",
                    "data": {
                        "text/plain": [
                            "<Figure size 432x288 with 1 Axes>"
                        ],
                        "image/svg+xml": "<?xml version=\"1.0\" encoding=\"utf-8\" standalone=\"no\"?>\n<!DOCTYPE svg PUBLIC \"-//W3C//DTD SVG 1.1//EN\"\n  \"http://www.w3.org/Graphics/SVG/1.1/DTD/svg11.dtd\">\n<!-- Created with matplotlib (https://matplotlib.org/) -->\n<svg height=\"131.589529pt\" version=\"1.1\" viewBox=\"0 0 132.595588 131.589529\" width=\"132.595588pt\" xmlns=\"http://www.w3.org/2000/svg\" xmlns:xlink=\"http://www.w3.org/1999/xlink\">\n <defs>\n  <style type=\"text/css\">\n*{stroke-linecap:butt;stroke-linejoin:round;}\n  </style>\n </defs>\n <g id=\"figure_1\">\n  <g id=\"patch_1\">\n   <path d=\"M -0 131.589529 \nL 132.595588 131.589529 \nL 132.595588 0 \nL -0 0 \nz\n\" style=\"fill:none;\"/>\n  </g>\n  <g id=\"axes_1\">\n   <g id=\"patch_2\">\n    <path d=\"M 26.925 107.711404 \nL 125.395588 107.711404 \nL 125.395588 9.240815 \nL 26.925 9.240815 \nz\n\" style=\"fill:#ffffff;\"/>\n   </g>\n   <g clip-path=\"url(#p7df0640efd)\">\n    <image height=\"99\" id=\"image91646718aa\" transform=\"scale(1 -1)translate(0 -99)\" width=\"99\" x=\"26.925\" xlink:href=\"data:image/png;base64,\niVBORw0KGgoAAAANSUhEUgAAAGMAAABjCAYAAACPO76VAAAABHNCSVQICAgIfAhkiAAABAVJREFUeJztnMsrdVEYxtdBKQoDQklSLpkYmCEll0K5ZCSXCRnIgIkyUBJR/AGiJIZCSgYmBpJLGTCjKEpMZEQp8c3eb72r7+xO3zln7+fo+Y2et2effZYe71rbss4JGWN+DIEgKegBkL8wDCAYBhAMAwiGAQTDACIl6AF4MTk5KXp2dlZ5jY2Noo+OjnwbUzxhZwDBMIBgGEBArxlezMzMiB4bG1Pe5eWl38OJCewMIBgGENDT1MbGhuiqqirldXV1ie7r61MepykSNQwDCIYBBPSa8fT0JHpvb0959prxW2BnAMEwgAiZBDmQkJWVpeqtrS3RBQUFyquvr1f1y8tL/AYWQ9gZQDAMIBgGEAmzZri0t7eL3t3dVd7Z2Zmqa2pqfBlTtLAzgGAYQCTsNJWamir65uZGeT8/+kcqKSkR/fX1Fd+BRQE7AwiGAQTDAAJ619aLz89P0YeHh8obGhpS9eLioujx8fH4DiwK2BlAMAwgAn+0bWtrE+2ef7J5fX1V9ejoqOi0tDTluWdv7+/vRTc1Nf3XOP2AnQEEwwCCYQAR+KOtfQCtoaEh4tfV1dWJPj09VV52draq8/PzRZeWlirv9vY24veMN+wMIBgGEL5PU8nJyaq2H0vd3VYvcnNzRXd2diovFAqp2r6vOxVymiL/hGEAwTCA8H07xP4PnTF6x7W2tlZ5Dw8PoldXV5VXXV0turW1VXlJSfp37Pv7W/Tj46PyysvLRds7wUHAzgCCYQDBMIDw/e8Md162P4PhcnV1JXp+fl55GRkZojs6OpQ3MTGh6oqKCtGFhYXKq6ysFH1xcRF2LH7AzgCCYQAR+K7t8fGx6O7ubuW1tLSIdj9zcXJyInpzc1N57i6uPf1kZmYqz94eeX5+Vt7w8LDohYUF5b2/v5tYw84AgmEAwTCACPx0iM309LSqp6amwl5rnw5ZW1tTnvv4nJeXJ/r8/Dzse769vSlvZWVFdFlZmfLca2MBOwMIhgEE1DTlHiRYWloS3d/fH/Z16+vrqh4cHAx7bU9Pj6oPDg5E7+/vK8/e4e3t7Q17z1jBzgCCYQDBMICAWjNc0tPTRbuPku4pE5u7uztV218uubOzo7zm5mbR29vbyvP7i4zZGUAwDCCgpykb+2ytMcbMzc2Jtg8nGON9iM2Lj48PVdvfrHB9fR3RPaKBnQEEwwCCYQCRMGuGS05OjuiBgQHljYyMqLqoqCiie7o7uu5aFG/YGUAwDCASdpryori4WNX2Y7G7+2ofSFheXlaeO93FG3YGEAwDCIYBxK9cMxIVdgYQDAMIhgEEwwCCYQDBMIBgGEAwDCAYBhAMAwiGAQTDAIJhAMEwgGAYQDAMIBgGEAwDCIYBBMMA4g8Bc+b3DK1/7wAAAABJRU5ErkJggg==\" y=\"-8.711404\"/>\n   </g>\n   <g id=\"matplotlib.axis_1\">\n    <g id=\"xtick_1\">\n     <g id=\"line2d_1\">\n      <defs>\n       <path d=\"M 0 0 \nL 0 3.5 \n\" id=\"ma2fd69ff00\" style=\"stroke:#000000;stroke-width:0.8;\"/>\n      </defs>\n      <g>\n       <use style=\"stroke:#000000;stroke-width:0.8;\" x=\"28.683403\" xlink:href=\"#ma2fd69ff00\" y=\"107.711404\"/>\n      </g>\n     </g>\n     <g id=\"text_1\">\n      <!-- 0 -->\n      <defs>\n       <path d=\"M 31.78125 66.40625 \nQ 24.171875 66.40625 20.328125 58.90625 \nQ 16.5 51.421875 16.5 36.375 \nQ 16.5 21.390625 20.328125 13.890625 \nQ 24.171875 6.390625 31.78125 6.390625 \nQ 39.453125 6.390625 43.28125 13.890625 \nQ 47.125 21.390625 47.125 36.375 \nQ 47.125 51.421875 43.28125 58.90625 \nQ 39.453125 66.40625 31.78125 66.40625 \nz\nM 31.78125 74.21875 \nQ 44.046875 74.21875 50.515625 64.515625 \nQ 56.984375 54.828125 56.984375 36.375 \nQ 56.984375 17.96875 50.515625 8.265625 \nQ 44.046875 -1.421875 31.78125 -1.421875 \nQ 19.53125 -1.421875 13.0625 8.265625 \nQ 6.59375 17.96875 6.59375 36.375 \nQ 6.59375 54.828125 13.0625 64.515625 \nQ 19.53125 74.21875 31.78125 74.21875 \nz\n\" id=\"DejaVuSans-48\"/>\n      </defs>\n      <g transform=\"translate(25.502153 122.309841)scale(0.1 -0.1)\">\n       <use xlink:href=\"#DejaVuSans-48\"/>\n      </g>\n     </g>\n    </g>\n    <g id=\"xtick_2\">\n     <g id=\"line2d_2\">\n      <g>\n       <use style=\"stroke:#000000;stroke-width:0.8;\" x=\"63.851471\" xlink:href=\"#ma2fd69ff00\" y=\"107.711404\"/>\n      </g>\n     </g>\n     <g id=\"text_2\">\n      <!-- 10 -->\n      <defs>\n       <path d=\"M 12.40625 8.296875 \nL 28.515625 8.296875 \nL 28.515625 63.921875 \nL 10.984375 60.40625 \nL 10.984375 69.390625 \nL 28.421875 72.90625 \nL 38.28125 72.90625 \nL 38.28125 8.296875 \nL 54.390625 8.296875 \nL 54.390625 0 \nL 12.40625 0 \nz\n\" id=\"DejaVuSans-49\"/>\n      </defs>\n      <g transform=\"translate(57.488971 122.309841)scale(0.1 -0.1)\">\n       <use xlink:href=\"#DejaVuSans-49\"/>\n       <use x=\"63.623047\" xlink:href=\"#DejaVuSans-48\"/>\n      </g>\n     </g>\n    </g>\n    <g id=\"xtick_3\">\n     <g id=\"line2d_3\">\n      <g>\n       <use style=\"stroke:#000000;stroke-width:0.8;\" x=\"99.019538\" xlink:href=\"#ma2fd69ff00\" y=\"107.711404\"/>\n      </g>\n     </g>\n     <g id=\"text_3\">\n      <!-- 20 -->\n      <defs>\n       <path d=\"M 19.1875 8.296875 \nL 53.609375 8.296875 \nL 53.609375 0 \nL 7.328125 0 \nL 7.328125 8.296875 \nQ 12.9375 14.109375 22.625 23.890625 \nQ 32.328125 33.6875 34.8125 36.53125 \nQ 39.546875 41.84375 41.421875 45.53125 \nQ 43.3125 49.21875 43.3125 52.78125 \nQ 43.3125 58.59375 39.234375 62.25 \nQ 35.15625 65.921875 28.609375 65.921875 \nQ 23.96875 65.921875 18.8125 64.3125 \nQ 13.671875 62.703125 7.8125 59.421875 \nL 7.8125 69.390625 \nQ 13.765625 71.78125 18.9375 73 \nQ 24.125 74.21875 28.421875 74.21875 \nQ 39.75 74.21875 46.484375 68.546875 \nQ 53.21875 62.890625 53.21875 53.421875 \nQ 53.21875 48.921875 51.53125 44.890625 \nQ 49.859375 40.875 45.40625 35.40625 \nQ 44.1875 33.984375 37.640625 27.21875 \nQ 31.109375 20.453125 19.1875 8.296875 \nz\n\" id=\"DejaVuSans-50\"/>\n      </defs>\n      <g transform=\"translate(92.657038 122.309841)scale(0.1 -0.1)\">\n       <use xlink:href=\"#DejaVuSans-50\"/>\n       <use x=\"63.623047\" xlink:href=\"#DejaVuSans-48\"/>\n      </g>\n     </g>\n    </g>\n   </g>\n   <g id=\"matplotlib.axis_2\">\n    <g id=\"ytick_1\">\n     <g id=\"line2d_4\">\n      <defs>\n       <path d=\"M 0 0 \nL -3.5 0 \n\" id=\"m43779d7716\" style=\"stroke:#000000;stroke-width:0.8;\"/>\n      </defs>\n      <g>\n       <use style=\"stroke:#000000;stroke-width:0.8;\" x=\"26.925\" xlink:href=\"#m43779d7716\" y=\"10.999219\"/>\n      </g>\n     </g>\n     <g id=\"text_4\">\n      <!-- 0 -->\n      <g transform=\"translate(13.5625 14.798437)scale(0.1 -0.1)\">\n       <use xlink:href=\"#DejaVuSans-48\"/>\n      </g>\n     </g>\n    </g>\n    <g id=\"ytick_2\">\n     <g id=\"line2d_5\">\n      <g>\n       <use style=\"stroke:#000000;stroke-width:0.8;\" x=\"26.925\" xlink:href=\"#m43779d7716\" y=\"46.167286\"/>\n      </g>\n     </g>\n     <g id=\"text_5\">\n      <!-- 10 -->\n      <g transform=\"translate(7.2 49.966505)scale(0.1 -0.1)\">\n       <use xlink:href=\"#DejaVuSans-49\"/>\n       <use x=\"63.623047\" xlink:href=\"#DejaVuSans-48\"/>\n      </g>\n     </g>\n    </g>\n    <g id=\"ytick_3\">\n     <g id=\"line2d_6\">\n      <g>\n       <use style=\"stroke:#000000;stroke-width:0.8;\" x=\"26.925\" xlink:href=\"#m43779d7716\" y=\"81.335353\"/>\n      </g>\n     </g>\n     <g id=\"text_6\">\n      <!-- 20 -->\n      <g transform=\"translate(7.2 85.134572)scale(0.1 -0.1)\">\n       <use xlink:href=\"#DejaVuSans-50\"/>\n       <use x=\"63.623047\" xlink:href=\"#DejaVuSans-48\"/>\n      </g>\n     </g>\n    </g>\n   </g>\n   <g id=\"patch_3\">\n    <path d=\"M 26.925 107.711404 \nL 26.925 9.240815 \n\" style=\"fill:none;stroke:#000000;stroke-linecap:square;stroke-linejoin:miter;stroke-width:0.8;\"/>\n   </g>\n   <g id=\"patch_4\">\n    <path d=\"M 125.395588 107.711404 \nL 125.395588 9.240815 \n\" style=\"fill:none;stroke:#000000;stroke-linecap:square;stroke-linejoin:miter;stroke-width:0.8;\"/>\n   </g>\n   <g id=\"patch_5\">\n    <path d=\"M 26.925 107.711404 \nL 125.395588 107.711404 \n\" style=\"fill:none;stroke:#000000;stroke-linecap:square;stroke-linejoin:miter;stroke-width:0.8;\"/>\n   </g>\n   <g id=\"patch_6\">\n    <path d=\"M 26.925 9.240815 \nL 125.395588 9.240815 \n\" style=\"fill:none;stroke:#000000;stroke-linecap:square;stroke-linejoin:miter;stroke-width:0.8;\"/>\n   </g>\n  </g>\n </g>\n <defs>\n  <clipPath id=\"p7df0640efd\">\n   <rect height=\"98.470588\" width=\"98.470588\" x=\"26.925\" y=\"9.240815\"/>\n  </clipPath>\n </defs>\n</svg>\n",
                        "image/png": "[encoded data removed]"
                    },
                    "metadata": {
                        "needs_background": "light"
                    }
                },
                {
                    "output_type": "display_data",
                    "data": {
                        "text/plain": [
                            "<Figure size 432x288 with 1 Axes>"
                        ],
                        "image/svg+xml": "<?xml version=\"1.0\" encoding=\"utf-8\" standalone=\"no\"?>\n<!DOCTYPE svg PUBLIC \"-//W3C//DTD SVG 1.1//EN\"\n  \"http://www.w3.org/Graphics/SVG/1.1/DTD/svg11.dtd\">\n<!-- Created with matplotlib (https://matplotlib.org/) -->\n<svg height=\"131.589529pt\" version=\"1.1\" viewBox=\"0 0 132.595588 131.589529\" width=\"132.595588pt\" xmlns=\"http://www.w3.org/2000/svg\" xmlns:xlink=\"http://www.w3.org/1999/xlink\">\n <defs>\n  <style type=\"text/css\">\n*{stroke-linecap:butt;stroke-linejoin:round;}\n  </style>\n </defs>\n <g id=\"figure_1\">\n  <g id=\"patch_1\">\n   <path d=\"M 0 131.589529 \nL 132.595588 131.589529 \nL 132.595588 0 \nL 0 0 \nz\n\" style=\"fill:none;\"/>\n  </g>\n  <g id=\"axes_1\">\n   <g id=\"patch_2\">\n    <path d=\"M 26.925 107.711404 \nL 125.395588 107.711404 \nL 125.395588 9.240815 \nL 26.925 9.240815 \nz\n\" style=\"fill:#ffffff;\"/>\n   </g>\n   <g clip-path=\"url(#pe23234de07)\">\n    <image height=\"99\" id=\"image847d30cb6a\" transform=\"scale(1 -1)translate(0 -99)\" width=\"99\" x=\"26.925\" xlink:href=\"data:image/png;base64,\niVBORw0KGgoAAAANSUhEUgAAAGMAAABjCAYAAACPO76VAAAABHNCSVQICAgIfAhkiAAAA19JREFUeJztnTFLK0EUhSdPIQGTQhuNnVUghaApEuwV7PwFCoJoHbGwEwJpgm38AUIEESzUUjsF0UAKEUyRLqYVSSXBvO46d8kGeezOnseerzrDXdzBj7uzbiZrwhgzNASCP1FPgPxAGUBQBhCUAQRlAEEZQExGPQEXZDIZyZVKRdWWl5clHx4eqtr9/X24E/PAzgCCMoCgDCBisWY8Pj5KzuVyvsdNT0+7mI4v7AwgKAOIhInBU9v393fJs7OzvsdNTEy4mI4v7AwgKAMIygAiFre2iURiZDbGmE6n43o6vrAzgKAMIGJxmRoOhyOzMcYsLCy4no4v7AwgKAMIygCCMoCgDCAoA4hY3Nre3NxI3t7e9j0un8+r8evra2hzGgU7AwjKAIIygIjFmmFvNPA+tbWZmZlxMR1f2BlAUAYQ3JBgwQ0JRKAMICgDiFjc2n58fEget2ZEDTsDCMoAwsllan9/P9Sff3t7q8Zvb29qfH19LXncVwKihp0BBGUAQRlABLZm2E9Gz87OVG1tbS2o0/yKl5cXNU6n05LHPbWNGnYGEJQBBGUAEdiakUwmJa+urvoe5/0boF6vS764uFC1Xq8nuVAoqJp3J4fN/Py8Gu/u7kr2bny2yWazvud3ATsDCMoAIrBP+ubm5iR3u119Eut28uDgQNWOj4+DOP1YisWi5IeHB9/jrq6u1HhjYyO0OY2CnQEEZQBBGUAEdmv7/f0t+evrS9Xs295UKhXUKX9Nv9+XPBgMVG1y8udXcHd352xOo2BnAEEZQISyie3k5ESN9/b2JH9+fqra0tKSZBdvK2i1Wmq8uLgoeWtrS9VOT09Dn48NOwMIygCCMoAIZXdIrVZTY/upqf2pmzHGbG5uSj46OgpjOgrvU1t7vLKyompcM2IMZQARymXKe4vabDYl2+8eN8aYcrksudFoqFq73Q5hdv5E/YYddgYQlAEEZQDhZONztVqVfH5+rmpTU1OS19fXVS2MNeP5+VmN7e9r2N/jiAJ2BhCUAYSTy9Tl5aXkp6cnVSuVSpJd/MuEnZ2d0M/xr7AzgKAMICgDiFi8ruJ/gZ0BBGUAQRlAUAYQlAEEZQBBGUBQBhCUAQRlAEEZQFAGEJQBBGUAQRlAUAYQlAEEZQBBGUBQBhB/AeXWn5S+GTy3AAAAAElFTkSuQmCC\" y=\"-8.711404\"/>\n   </g>\n   <g id=\"matplotlib.axis_1\">\n    <g id=\"xtick_1\">\n     <g id=\"line2d_1\">\n      <defs>\n       <path d=\"M 0 0 \nL 0 3.5 \n\" id=\"m7ea5fe8419\" style=\"stroke:#000000;stroke-width:0.8;\"/>\n      </defs>\n      <g>\n       <use style=\"stroke:#000000;stroke-width:0.8;\" x=\"28.683403\" xlink:href=\"#m7ea5fe8419\" y=\"107.711404\"/>\n      </g>\n     </g>\n     <g id=\"text_1\">\n      <!-- 0 -->\n      <defs>\n       <path d=\"M 31.78125 66.40625 \nQ 24.171875 66.40625 20.328125 58.90625 \nQ 16.5 51.421875 16.5 36.375 \nQ 16.5 21.390625 20.328125 13.890625 \nQ 24.171875 6.390625 31.78125 6.390625 \nQ 39.453125 6.390625 43.28125 13.890625 \nQ 47.125 21.390625 47.125 36.375 \nQ 47.125 51.421875 43.28125 58.90625 \nQ 39.453125 66.40625 31.78125 66.40625 \nz\nM 31.78125 74.21875 \nQ 44.046875 74.21875 50.515625 64.515625 \nQ 56.984375 54.828125 56.984375 36.375 \nQ 56.984375 17.96875 50.515625 8.265625 \nQ 44.046875 -1.421875 31.78125 -1.421875 \nQ 19.53125 -1.421875 13.0625 8.265625 \nQ 6.59375 17.96875 6.59375 36.375 \nQ 6.59375 54.828125 13.0625 64.515625 \nQ 19.53125 74.21875 31.78125 74.21875 \nz\n\" id=\"DejaVuSans-48\"/>\n      </defs>\n      <g transform=\"translate(25.502153 122.309841)scale(0.1 -0.1)\">\n       <use xlink:href=\"#DejaVuSans-48\"/>\n      </g>\n     </g>\n    </g>\n    <g id=\"xtick_2\">\n     <g id=\"line2d_2\">\n      <g>\n       <use style=\"stroke:#000000;stroke-width:0.8;\" x=\"63.851471\" xlink:href=\"#m7ea5fe8419\" y=\"107.711404\"/>\n      </g>\n     </g>\n     <g id=\"text_2\">\n      <!-- 10 -->\n      <defs>\n       <path d=\"M 12.40625 8.296875 \nL 28.515625 8.296875 \nL 28.515625 63.921875 \nL 10.984375 60.40625 \nL 10.984375 69.390625 \nL 28.421875 72.90625 \nL 38.28125 72.90625 \nL 38.28125 8.296875 \nL 54.390625 8.296875 \nL 54.390625 0 \nL 12.40625 0 \nz\n\" id=\"DejaVuSans-49\"/>\n      </defs>\n      <g transform=\"translate(57.488971 122.309841)scale(0.1 -0.1)\">\n       <use xlink:href=\"#DejaVuSans-49\"/>\n       <use x=\"63.623047\" xlink:href=\"#DejaVuSans-48\"/>\n      </g>\n     </g>\n    </g>\n    <g id=\"xtick_3\">\n     <g id=\"line2d_3\">\n      <g>\n       <use style=\"stroke:#000000;stroke-width:0.8;\" x=\"99.019538\" xlink:href=\"#m7ea5fe8419\" y=\"107.711404\"/>\n      </g>\n     </g>\n     <g id=\"text_3\">\n      <!-- 20 -->\n      <defs>\n       <path d=\"M 19.1875 8.296875 \nL 53.609375 8.296875 \nL 53.609375 0 \nL 7.328125 0 \nL 7.328125 8.296875 \nQ 12.9375 14.109375 22.625 23.890625 \nQ 32.328125 33.6875 34.8125 36.53125 \nQ 39.546875 41.84375 41.421875 45.53125 \nQ 43.3125 49.21875 43.3125 52.78125 \nQ 43.3125 58.59375 39.234375 62.25 \nQ 35.15625 65.921875 28.609375 65.921875 \nQ 23.96875 65.921875 18.8125 64.3125 \nQ 13.671875 62.703125 7.8125 59.421875 \nL 7.8125 69.390625 \nQ 13.765625 71.78125 18.9375 73 \nQ 24.125 74.21875 28.421875 74.21875 \nQ 39.75 74.21875 46.484375 68.546875 \nQ 53.21875 62.890625 53.21875 53.421875 \nQ 53.21875 48.921875 51.53125 44.890625 \nQ 49.859375 40.875 45.40625 35.40625 \nQ 44.1875 33.984375 37.640625 27.21875 \nQ 31.109375 20.453125 19.1875 8.296875 \nz\n\" id=\"DejaVuSans-50\"/>\n      </defs>\n      <g transform=\"translate(92.657038 122.309841)scale(0.1 -0.1)\">\n       <use xlink:href=\"#DejaVuSans-50\"/>\n       <use x=\"63.623047\" xlink:href=\"#DejaVuSans-48\"/>\n      </g>\n     </g>\n    </g>\n   </g>\n   <g id=\"matplotlib.axis_2\">\n    <g id=\"ytick_1\">\n     <g id=\"line2d_4\">\n      <defs>\n       <path d=\"M 0 0 \nL -3.5 0 \n\" id=\"ma34f7ef450\" style=\"stroke:#000000;stroke-width:0.8;\"/>\n      </defs>\n      <g>\n       <use style=\"stroke:#000000;stroke-width:0.8;\" x=\"26.925\" xlink:href=\"#ma34f7ef450\" y=\"10.999219\"/>\n      </g>\n     </g>\n     <g id=\"text_4\">\n      <!-- 0 -->\n      <g transform=\"translate(13.5625 14.798437)scale(0.1 -0.1)\">\n       <use xlink:href=\"#DejaVuSans-48\"/>\n      </g>\n     </g>\n    </g>\n    <g id=\"ytick_2\">\n     <g id=\"line2d_5\">\n      <g>\n       <use style=\"stroke:#000000;stroke-width:0.8;\" x=\"26.925\" xlink:href=\"#ma34f7ef450\" y=\"46.167286\"/>\n      </g>\n     </g>\n     <g id=\"text_5\">\n      <!-- 10 -->\n      <g transform=\"translate(7.2 49.966505)scale(0.1 -0.1)\">\n       <use xlink:href=\"#DejaVuSans-49\"/>\n       <use x=\"63.623047\" xlink:href=\"#DejaVuSans-48\"/>\n      </g>\n     </g>\n    </g>\n    <g id=\"ytick_3\">\n     <g id=\"line2d_6\">\n      <g>\n       <use style=\"stroke:#000000;stroke-width:0.8;\" x=\"26.925\" xlink:href=\"#ma34f7ef450\" y=\"81.335353\"/>\n      </g>\n     </g>\n     <g id=\"text_6\">\n      <!-- 20 -->\n      <g transform=\"translate(7.2 85.134572)scale(0.1 -0.1)\">\n       <use xlink:href=\"#DejaVuSans-50\"/>\n       <use x=\"63.623047\" xlink:href=\"#DejaVuSans-48\"/>\n      </g>\n     </g>\n    </g>\n   </g>\n   <g id=\"patch_3\">\n    <path d=\"M 26.925 107.711404 \nL 26.925 9.240815 \n\" style=\"fill:none;stroke:#000000;stroke-linecap:square;stroke-linejoin:miter;stroke-width:0.8;\"/>\n   </g>\n   <g id=\"patch_4\">\n    <path d=\"M 125.395588 107.711404 \nL 125.395588 9.240815 \n\" style=\"fill:none;stroke:#000000;stroke-linecap:square;stroke-linejoin:miter;stroke-width:0.8;\"/>\n   </g>\n   <g id=\"patch_5\">\n    <path d=\"M 26.925 107.711404 \nL 125.395588 107.711404 \n\" style=\"fill:none;stroke:#000000;stroke-linecap:square;stroke-linejoin:miter;stroke-width:0.8;\"/>\n   </g>\n   <g id=\"patch_6\">\n    <path d=\"M 26.925 9.240815 \nL 125.395588 9.240815 \n\" style=\"fill:none;stroke:#000000;stroke-linecap:square;stroke-linejoin:miter;stroke-width:0.8;\"/>\n   </g>\n  </g>\n </g>\n <defs>\n  <clipPath id=\"pe23234de07\">\n   <rect height=\"98.470588\" width=\"98.470588\" x=\"26.925\" y=\"9.240815\"/>\n  </clipPath>\n </defs>\n</svg>\n",
                        "image/png": "[encoded data removed]"
                    },
                    "metadata": {
                        "needs_background": "light"
                    }
                },
                {
                    "output_type": "display_data",
                    "data": {
                        "text/plain": [
                            "<Figure size 432x288 with 1 Axes>"
                        ],
                        "image/svg+xml": "<?xml version=\"1.0\" encoding=\"utf-8\" standalone=\"no\"?>\n<!DOCTYPE svg PUBLIC \"-//W3C//DTD SVG 1.1//EN\"\n  \"http://www.w3.org/Graphics/SVG/1.1/DTD/svg11.dtd\">\n<!-- Created with matplotlib (https://matplotlib.org/) -->\n<svg height=\"131.589529pt\" version=\"1.1\" viewBox=\"0 0 132.595588 131.589529\" width=\"132.595588pt\" xmlns=\"http://www.w3.org/2000/svg\" xmlns:xlink=\"http://www.w3.org/1999/xlink\">\n <defs>\n  <style type=\"text/css\">\n*{stroke-linecap:butt;stroke-linejoin:round;}\n  </style>\n </defs>\n <g id=\"figure_1\">\n  <g id=\"patch_1\">\n   <path d=\"M 0 131.589529 \nL 132.595588 131.589529 \nL 132.595588 0 \nL 0 0 \nz\n\" style=\"fill:none;\"/>\n  </g>\n  <g id=\"axes_1\">\n   <g id=\"patch_2\">\n    <path d=\"M 26.925 107.711404 \nL 125.395588 107.711404 \nL 125.395588 9.240815 \nL 26.925 9.240815 \nz\n\" style=\"fill:#ffffff;\"/>\n   </g>\n   <g clip-path=\"url(#p60dd68b9bd)\">\n    <image height=\"99\" id=\"image189eebef40\" transform=\"scale(1 -1)translate(0 -99)\" width=\"99\" x=\"26.925\" xlink:href=\"data:image/png;base64,\niVBORw0KGgoAAAANSUhEUgAAAGMAAABjCAYAAACPO76VAAAABHNCSVQICAgIfAhkiAAAA81JREFUeJztnM8rdFEYx88Ixc6P8qvEBgt/ggUrKT/KhjI241dJKRtRytaCpQWJhZWFDSU7SVE2alYshqzIgo2kiN3znuf0zpiuO/d87/t+P6vv0+Oeeaav55yZM+fehDHmyxAIinwXQP5AM4CgGUDQDCBoBhA0AwiaAQTNAIJmAEEzgCgOa6CmpibRs7OzKpdMJkVXVlbmPebl5aXow8NDldvc3BT9+PiY95jIsDOAoBlAJExIu7YnJyei29vbVe7q6irQmB0dHaJLSkpUzp6aNjY2VG55eTnQ6/mGnQEEzQCCZgAR2ppRX18vurS0VOXu7u4CjdnW1ia6p6dH5ebm5v762sYYs7KyouLFxcVArx817AwgaAYQoU1TUdPX1yd6f39f5YqK9P9Yb2+v6KOjo8IW9gvYGUDQDCBoBhCh7dpGzcHBgej7+3uVa25uVnFxcTzeJjsDCJoBRDz69wf29vZUPD8/r+KWlpYoywkMOwMImgEEzQAiNmuGu8WxtLQkenp6WuUSiYSKq6qqCldYiLAzgKAZQHifpsrLy0V3d3ernP2DUkVFhcoNDg5mHfPrS29En5+f/6bEyGBnAEEzgKAZQHhfMwYGBkTv7u6GMubDw4OKLy4uQhm30LAzgKAZQHifpvr7+0W735xzcXt7K9r+ockYY9bW1lT89PQUsLpoYWcAQTOAoBlAeF8z7K0LdxvDZnJyUsVbW1sFq8kX7AwgaAYQNAMI72uG/R1haGgo69+1traq2N5Sf35+Dr8wD7AzgKAZQHi/P8P+pc9+6oExxgwPD2e9bnt7W/T4+Hj4hXmAnQEEzQCCZgDhfc2wce+jSKfTot3Dy5+fn6KnpqZUzl5P4gQ7AwiaAQTUNOViT1vHx8cq19nZmfW6hoYGFbsHFFBhZwBBM4CgGUB437XNxcfHh+hMJqNyudYM96Dz6Oio6LOzM5WzH3vhnjKJGnYGEDQDCOiPtjYTExMqXl9fF+3eYuYehnt5eRH9/v6uctXV1aLds743Nzei3R3l19dX0W9vbzlrzxd2BhA0AwiaAURs1gyXmZkZ0QsLCypXV1en4lyH44JiH4JwnwS3uroq+vr6Ou8x2RlA0AwgYjtN2TQ2Nqp4bGxMxfbH4pqamoLXc3p6Krqrqyvv69gZQNAMIGgGEP/EmvETtbW1ou1Dc8YYU1ZWJtrdcsmF/aSekZERlUulUqJ3dnbyHpOdAQTNAOK/mKbiAjsDCJoBBM0AgmYAQTOAoBlA0AwgaAYQNAMImgEEzQCCZgBBM4CgGUDQDCBoBhA0A4hvVze9mfUnSWEAAAAASUVORK5CYII=\" y=\"-8.711404\"/>\n   </g>\n   <g id=\"matplotlib.axis_1\">\n    <g id=\"xtick_1\">\n     <g id=\"line2d_1\">\n      <defs>\n       <path d=\"M 0 0 \nL 0 3.5 \n\" id=\"m38ac8ef990\" style=\"stroke:#000000;stroke-width:0.8;\"/>\n      </defs>\n      <g>\n       <use style=\"stroke:#000000;stroke-width:0.8;\" x=\"28.683403\" xlink:href=\"#m38ac8ef990\" y=\"107.711404\"/>\n      </g>\n     </g>\n     <g id=\"text_1\">\n      <!-- 0 -->\n      <defs>\n       <path d=\"M 31.78125 66.40625 \nQ 24.171875 66.40625 20.328125 58.90625 \nQ 16.5 51.421875 16.5 36.375 \nQ 16.5 21.390625 20.328125 13.890625 \nQ 24.171875 6.390625 31.78125 6.390625 \nQ 39.453125 6.390625 43.28125 13.890625 \nQ 47.125 21.390625 47.125 36.375 \nQ 47.125 51.421875 43.28125 58.90625 \nQ 39.453125 66.40625 31.78125 66.40625 \nz\nM 31.78125 74.21875 \nQ 44.046875 74.21875 50.515625 64.515625 \nQ 56.984375 54.828125 56.984375 36.375 \nQ 56.984375 17.96875 50.515625 8.265625 \nQ 44.046875 -1.421875 31.78125 -1.421875 \nQ 19.53125 -1.421875 13.0625 8.265625 \nQ 6.59375 17.96875 6.59375 36.375 \nQ 6.59375 54.828125 13.0625 64.515625 \nQ 19.53125 74.21875 31.78125 74.21875 \nz\n\" id=\"DejaVuSans-48\"/>\n      </defs>\n      <g transform=\"translate(25.502153 122.309841)scale(0.1 -0.1)\">\n       <use xlink:href=\"#DejaVuSans-48\"/>\n      </g>\n     </g>\n    </g>\n    <g id=\"xtick_2\">\n     <g id=\"line2d_2\">\n      <g>\n       <use style=\"stroke:#000000;stroke-width:0.8;\" x=\"63.851471\" xlink:href=\"#m38ac8ef990\" y=\"107.711404\"/>\n      </g>\n     </g>\n     <g id=\"text_2\">\n      <!-- 10 -->\n      <defs>\n       <path d=\"M 12.40625 8.296875 \nL 28.515625 8.296875 \nL 28.515625 63.921875 \nL 10.984375 60.40625 \nL 10.984375 69.390625 \nL 28.421875 72.90625 \nL 38.28125 72.90625 \nL 38.28125 8.296875 \nL 54.390625 8.296875 \nL 54.390625 0 \nL 12.40625 0 \nz\n\" id=\"DejaVuSans-49\"/>\n      </defs>\n      <g transform=\"translate(57.488971 122.309841)scale(0.1 -0.1)\">\n       <use xlink:href=\"#DejaVuSans-49\"/>\n       <use x=\"63.623047\" xlink:href=\"#DejaVuSans-48\"/>\n      </g>\n     </g>\n    </g>\n    <g id=\"xtick_3\">\n     <g id=\"line2d_3\">\n      <g>\n       <use style=\"stroke:#000000;stroke-width:0.8;\" x=\"99.019538\" xlink:href=\"#m38ac8ef990\" y=\"107.711404\"/>\n      </g>\n     </g>\n     <g id=\"text_3\">\n      <!-- 20 -->\n      <defs>\n       <path d=\"M 19.1875 8.296875 \nL 53.609375 8.296875 \nL 53.609375 0 \nL 7.328125 0 \nL 7.328125 8.296875 \nQ 12.9375 14.109375 22.625 23.890625 \nQ 32.328125 33.6875 34.8125 36.53125 \nQ 39.546875 41.84375 41.421875 45.53125 \nQ 43.3125 49.21875 43.3125 52.78125 \nQ 43.3125 58.59375 39.234375 62.25 \nQ 35.15625 65.921875 28.609375 65.921875 \nQ 23.96875 65.921875 18.8125 64.3125 \nQ 13.671875 62.703125 7.8125 59.421875 \nL 7.8125 69.390625 \nQ 13.765625 71.78125 18.9375 73 \nQ 24.125 74.21875 28.421875 74.21875 \nQ 39.75 74.21875 46.484375 68.546875 \nQ 53.21875 62.890625 53.21875 53.421875 \nQ 53.21875 48.921875 51.53125 44.890625 \nQ 49.859375 40.875 45.40625 35.40625 \nQ 44.1875 33.984375 37.640625 27.21875 \nQ 31.109375 20.453125 19.1875 8.296875 \nz\n\" id=\"DejaVuSans-50\"/>\n      </defs>\n      <g transform=\"translate(92.657038 122.309841)scale(0.1 -0.1)\">\n       <use xlink:href=\"#DejaVuSans-50\"/>\n       <use x=\"63.623047\" xlink:href=\"#DejaVuSans-48\"/>\n      </g>\n     </g>\n    </g>\n   </g>\n   <g id=\"matplotlib.axis_2\">\n    <g id=\"ytick_1\">\n     <g id=\"line2d_4\">\n      <defs>\n       <path d=\"M 0 0 \nL -3.5 0 \n\" id=\"m4ffdf35146\" style=\"stroke:#000000;stroke-width:0.8;\"/>\n      </defs>\n      <g>\n       <use style=\"stroke:#000000;stroke-width:0.8;\" x=\"26.925\" xlink:href=\"#m4ffdf35146\" y=\"10.999219\"/>\n      </g>\n     </g>\n     <g id=\"text_4\">\n      <!-- 0 -->\n      <g transform=\"translate(13.5625 14.798437)scale(0.1 -0.1)\">\n       <use xlink:href=\"#DejaVuSans-48\"/>\n      </g>\n     </g>\n    </g>\n    <g id=\"ytick_2\">\n     <g id=\"line2d_5\">\n      <g>\n       <use style=\"stroke:#000000;stroke-width:0.8;\" x=\"26.925\" xlink:href=\"#m4ffdf35146\" y=\"46.167286\"/>\n      </g>\n     </g>\n     <g id=\"text_5\">\n      <!-- 10 -->\n      <g transform=\"translate(7.2 49.966505)scale(0.1 -0.1)\">\n       <use xlink:href=\"#DejaVuSans-49\"/>\n       <use x=\"63.623047\" xlink:href=\"#DejaVuSans-48\"/>\n      </g>\n     </g>\n    </g>\n    <g id=\"ytick_3\">\n     <g id=\"line2d_6\">\n      <g>\n       <use style=\"stroke:#000000;stroke-width:0.8;\" x=\"26.925\" xlink:href=\"#m4ffdf35146\" y=\"81.335353\"/>\n      </g>\n     </g>\n     <g id=\"text_6\">\n      <!-- 20 -->\n      <g transform=\"translate(7.2 85.134572)scale(0.1 -0.1)\">\n       <use xlink:href=\"#DejaVuSans-50\"/>\n       <use x=\"63.623047\" xlink:href=\"#DejaVuSans-48\"/>\n      </g>\n     </g>\n    </g>\n   </g>\n   <g id=\"patch_3\">\n    <path d=\"M 26.925 107.711404 \nL 26.925 9.240815 \n\" style=\"fill:none;stroke:#000000;stroke-linecap:square;stroke-linejoin:miter;stroke-width:0.8;\"/>\n   </g>\n   <g id=\"patch_4\">\n    <path d=\"M 125.395588 107.711404 \nL 125.395588 9.240815 \n\" style=\"fill:none;stroke:#000000;stroke-linecap:square;stroke-linejoin:miter;stroke-width:0.8;\"/>\n   </g>\n   <g id=\"patch_5\">\n    <path d=\"M 26.925 107.711404 \nL 125.395588 107.711404 \n\" style=\"fill:none;stroke:#000000;stroke-linecap:square;stroke-linejoin:miter;stroke-width:0.8;\"/>\n   </g>\n   <g id=\"patch_6\">\n    <path d=\"M 26.925 9.240815 \nL 125.395588 9.240815 \n\" style=\"fill:none;stroke:#000000;stroke-linecap:square;stroke-linejoin:miter;stroke-width:0.8;\"/>\n   </g>\n  </g>\n </g>\n <defs>\n  <clipPath id=\"p60dd68b9bd\">\n   <rect height=\"98.470588\" width=\"98.470588\" x=\"26.925\" y=\"9.240815\"/>\n  </clipPath>\n </defs>\n</svg>\n",
                        "image/png": "[encoded data removed]"
                    },
                    "metadata": {
                        "needs_background": "light"
                    }
                },
                {
                    "output_type": "display_data",
                    "data": {
                        "text/plain": [
                            "<Figure size 432x288 with 1 Axes>"
                        ],
                        "image/svg+xml": "<?xml version=\"1.0\" encoding=\"utf-8\" standalone=\"no\"?>\n<!DOCTYPE svg PUBLIC \"-//W3C//DTD SVG 1.1//EN\"\n  \"http://www.w3.org/Graphics/SVG/1.1/DTD/svg11.dtd\">\n<!-- Created with matplotlib (https://matplotlib.org/) -->\n<svg height=\"131.589529pt\" version=\"1.1\" viewBox=\"0 0 132.595588 131.589529\" width=\"132.595588pt\" xmlns=\"http://www.w3.org/2000/svg\" xmlns:xlink=\"http://www.w3.org/1999/xlink\">\n <defs>\n  <style type=\"text/css\">\n*{stroke-linecap:butt;stroke-linejoin:round;}\n  </style>\n </defs>\n <g id=\"figure_1\">\n  <g id=\"patch_1\">\n   <path d=\"M -0 131.589529 \nL 132.595588 131.589529 \nL 132.595588 0 \nL -0 0 \nz\n\" style=\"fill:none;\"/>\n  </g>\n  <g id=\"axes_1\">\n   <g id=\"patch_2\">\n    <path d=\"M 26.925 107.711404 \nL 125.395588 107.711404 \nL 125.395588 9.240815 \nL 26.925 9.240815 \nz\n\" style=\"fill:#ffffff;\"/>\n   </g>\n   <g clip-path=\"url(#p0b242d8b1c)\">\n    <image height=\"99\" id=\"image90fc80b9c7\" transform=\"scale(1 -1)translate(0 -99)\" width=\"99\" x=\"26.925\" xlink:href=\"data:image/png;base64,\niVBORw0KGgoAAAANSUhEUgAAAGMAAABjCAYAAACPO76VAAAABHNCSVQICAgIfAhkiAAABD9JREFUeJztnbsvbFEUxvdcGoJG4RGFhkrhUVB4RSSCCrVCCBGFTiXi8Q8gEQQ9DQ0aEqVKQzRKkRARkRBCwa3ustbOnTFznXPmG/f7Vd/KOubsyZe195mzH2LOuQ9HIPiV7gaQT2gGEDQDCJoBBM0AgmYAQTOAoBlA0AwgaAYQNAMImgEEzQAiO90N0GRn2+YUFxeLrqioMLmuri7Rra2tJldTU2Pii4sL0Xt7eyY3Ozsr+vHxMbUGBwwrAwiaAQTNACLmIp7pq6qqMnFTU5Pozs5Ok9PjQiJisZiJPz6S/0qnp6ei5+bmTG5nZyfpzwkCVgYQNAOIULqp3NxcEw8ODor2u4K8vLzPxvxjd3N2dmZi/SjrnHNlZWWi6+vrTU7f03+0HRgYEB1Fl8XKAIJmAEEzgAhlzJiZmTHx5ORk3GvX19dF39zcxM0l4uHhwcR+36/HsImJCZObmpoS7Y9Rz8/PoisrK03u+vo6qbalAisDCJoBRChvbfXjqnO2/P3HTv2oe3V1FUZzTHczPT1tcvn5+aLHx8dNLicnR3RWVlYobdOwMoCgGUDQDCBCGTMuLy9NvLy8LLq2ttbkent7RS8uLobRHENJSYmJu7u74157f38v+u3tLbQ2/YGVAQTNACKUbmphYSGMjw0E/+2rXujg/wJfWVkRfXt7G27DHCsDCpoBBM0AIvIFCVFQWlpqYv3WeGhoyOT0wrmTkxOTa2xsFP36+hpkE/8KKwMImgFExnZT+pe0/yZWL4D4irW1NdGjo6Pfbtd3YGUAQTOAoBlAQO3P8NGzcD09PSa3tLQk2l80l2jx29jYmIlXV1e/08RAYWUAQTOAoBlApH3M0DNtHR0dJtfc3Cza39eRCD1D55xzIyMjovf391NtYmSwMoCgGUBE0k3pt6j+ulv9FtXfepzs/gy9qME5546Pj00cxSxdELAygKAZQNAMICIZM/r7+0UPDw/Hvc7fZ6EXSW9tbZmc3ruR7mMmgoKVAQTNACKSbspfXxuPhoYGE/t7OX46rAwgaAYQNAOISMaMzc1N0X19fVHcMiNhZQBBM4CIpJvSpwn4J+doDg8PTdze3i7af8ytq6sT7a+RzVRYGUDQDCBoBhCRL3z2T6c5ODgQrU9Mcy75mT5/HNrd3TWxHm82NjZM7unpSbS/vTjqGUJWBhA0A4i078/Q3VZ1dbXJ6XNt/bPQNeXl5SYuKipK+v66i7u7uzO5o6OjuH83Pz8v2p/cOj8/T/r+GlYGEDQDCJoBRNrHjCDwxwx/T19bW5voRIcMp3KGeqLDibe3t0X7+0FeXl7ifiYrAwiaAcSP6Ka+Qm8zKywsNLmWlhbR/r8H0vgnKxQUFIh+f383OT2Z5ndT/towDSsDCJoBBM0A4r8YMzIFVgYQNAMImgEEzQCCZgBBM4CgGUDQDCBoBhA0AwiaAQTNAIJmAPEbgEMHXoYtx10AAAAASUVORK5CYII=\" y=\"-8.711404\"/>\n   </g>\n   <g id=\"matplotlib.axis_1\">\n    <g id=\"xtick_1\">\n     <g id=\"line2d_1\">\n      <defs>\n       <path d=\"M 0 0 \nL 0 3.5 \n\" id=\"md36aeda403\" style=\"stroke:#000000;stroke-width:0.8;\"/>\n      </defs>\n      <g>\n       <use style=\"stroke:#000000;stroke-width:0.8;\" x=\"28.683403\" xlink:href=\"#md36aeda403\" y=\"107.711404\"/>\n      </g>\n     </g>\n     <g id=\"text_1\">\n      <!-- 0 -->\n      <defs>\n       <path d=\"M 31.78125 66.40625 \nQ 24.171875 66.40625 20.328125 58.90625 \nQ 16.5 51.421875 16.5 36.375 \nQ 16.5 21.390625 20.328125 13.890625 \nQ 24.171875 6.390625 31.78125 6.390625 \nQ 39.453125 6.390625 43.28125 13.890625 \nQ 47.125 21.390625 47.125 36.375 \nQ 47.125 51.421875 43.28125 58.90625 \nQ 39.453125 66.40625 31.78125 66.40625 \nz\nM 31.78125 74.21875 \nQ 44.046875 74.21875 50.515625 64.515625 \nQ 56.984375 54.828125 56.984375 36.375 \nQ 56.984375 17.96875 50.515625 8.265625 \nQ 44.046875 -1.421875 31.78125 -1.421875 \nQ 19.53125 -1.421875 13.0625 8.265625 \nQ 6.59375 17.96875 6.59375 36.375 \nQ 6.59375 54.828125 13.0625 64.515625 \nQ 19.53125 74.21875 31.78125 74.21875 \nz\n\" id=\"DejaVuSans-48\"/>\n      </defs>\n      <g transform=\"translate(25.502153 122.309841)scale(0.1 -0.1)\">\n       <use xlink:href=\"#DejaVuSans-48\"/>\n      </g>\n     </g>\n    </g>\n    <g id=\"xtick_2\">\n     <g id=\"line2d_2\">\n      <g>\n       <use style=\"stroke:#000000;stroke-width:0.8;\" x=\"63.851471\" xlink:href=\"#md36aeda403\" y=\"107.711404\"/>\n      </g>\n     </g>\n     <g id=\"text_2\">\n      <!-- 10 -->\n      <defs>\n       <path d=\"M 12.40625 8.296875 \nL 28.515625 8.296875 \nL 28.515625 63.921875 \nL 10.984375 60.40625 \nL 10.984375 69.390625 \nL 28.421875 72.90625 \nL 38.28125 72.90625 \nL 38.28125 8.296875 \nL 54.390625 8.296875 \nL 54.390625 0 \nL 12.40625 0 \nz\n\" id=\"DejaVuSans-49\"/>\n      </defs>\n      <g transform=\"translate(57.488971 122.309841)scale(0.1 -0.1)\">\n       <use xlink:href=\"#DejaVuSans-49\"/>\n       <use x=\"63.623047\" xlink:href=\"#DejaVuSans-48\"/>\n      </g>\n     </g>\n    </g>\n    <g id=\"xtick_3\">\n     <g id=\"line2d_3\">\n      <g>\n       <use style=\"stroke:#000000;stroke-width:0.8;\" x=\"99.019538\" xlink:href=\"#md36aeda403\" y=\"107.711404\"/>\n      </g>\n     </g>\n     <g id=\"text_3\">\n      <!-- 20 -->\n      <defs>\n       <path d=\"M 19.1875 8.296875 \nL 53.609375 8.296875 \nL 53.609375 0 \nL 7.328125 0 \nL 7.328125 8.296875 \nQ 12.9375 14.109375 22.625 23.890625 \nQ 32.328125 33.6875 34.8125 36.53125 \nQ 39.546875 41.84375 41.421875 45.53125 \nQ 43.3125 49.21875 43.3125 52.78125 \nQ 43.3125 58.59375 39.234375 62.25 \nQ 35.15625 65.921875 28.609375 65.921875 \nQ 23.96875 65.921875 18.8125 64.3125 \nQ 13.671875 62.703125 7.8125 59.421875 \nL 7.8125 69.390625 \nQ 13.765625 71.78125 18.9375 73 \nQ 24.125 74.21875 28.421875 74.21875 \nQ 39.75 74.21875 46.484375 68.546875 \nQ 53.21875 62.890625 53.21875 53.421875 \nQ 53.21875 48.921875 51.53125 44.890625 \nQ 49.859375 40.875 45.40625 35.40625 \nQ 44.1875 33.984375 37.640625 27.21875 \nQ 31.109375 20.453125 19.1875 8.296875 \nz\n\" id=\"DejaVuSans-50\"/>\n      </defs>\n      <g transform=\"translate(92.657038 122.309841)scale(0.1 -0.1)\">\n       <use xlink:href=\"#DejaVuSans-50\"/>\n       <use x=\"63.623047\" xlink:href=\"#DejaVuSans-48\"/>\n      </g>\n     </g>\n    </g>\n   </g>\n   <g id=\"matplotlib.axis_2\">\n    <g id=\"ytick_1\">\n     <g id=\"line2d_4\">\n      <defs>\n       <path d=\"M 0 0 \nL -3.5 0 \n\" id=\"m192aee9780\" style=\"stroke:#000000;stroke-width:0.8;\"/>\n      </defs>\n      <g>\n       <use style=\"stroke:#000000;stroke-width:0.8;\" x=\"26.925\" xlink:href=\"#m192aee9780\" y=\"10.999219\"/>\n      </g>\n     </g>\n     <g id=\"text_4\">\n      <!-- 0 -->\n      <g transform=\"translate(13.5625 14.798437)scale(0.1 -0.1)\">\n       <use xlink:href=\"#DejaVuSans-48\"/>\n      </g>\n     </g>\n    </g>\n    <g id=\"ytick_2\">\n     <g id=\"line2d_5\">\n      <g>\n       <use style=\"stroke:#000000;stroke-width:0.8;\" x=\"26.925\" xlink:href=\"#m192aee9780\" y=\"46.167286\"/>\n      </g>\n     </g>\n     <g id=\"text_5\">\n      <!-- 10 -->\n      <g transform=\"translate(7.2 49.966505)scale(0.1 -0.1)\">\n       <use xlink:href=\"#DejaVuSans-49\"/>\n       <use x=\"63.623047\" xlink:href=\"#DejaVuSans-48\"/>\n      </g>\n     </g>\n    </g>\n    <g id=\"ytick_3\">\n     <g id=\"line2d_6\">\n      <g>\n       <use style=\"stroke:#000000;stroke-width:0.8;\" x=\"26.925\" xlink:href=\"#m192aee9780\" y=\"81.335353\"/>\n      </g>\n     </g>\n     <g id=\"text_6\">\n      <!-- 20 -->\n      <g transform=\"translate(7.2 85.134572)scale(0.1 -0.1)\">\n       <use xlink:href=\"#DejaVuSans-50\"/>\n       <use x=\"63.623047\" xlink:href=\"#DejaVuSans-48\"/>\n      </g>\n     </g>\n    </g>\n   </g>\n   <g id=\"patch_3\">\n    <path d=\"M 26.925 107.711404 \nL 26.925 9.240815 \n\" style=\"fill:none;stroke:#000000;stroke-linecap:square;stroke-linejoin:miter;stroke-width:0.8;\"/>\n   </g>\n   <g id=\"patch_4\">\n    <path d=\"M 125.395588 107.711404 \nL 125.395588 9.240815 \n\" style=\"fill:none;stroke:#000000;stroke-linecap:square;stroke-linejoin:miter;stroke-width:0.8;\"/>\n   </g>\n   <g id=\"patch_5\">\n    <path d=\"M 26.925 107.711404 \nL 125.395588 107.711404 \n\" style=\"fill:none;stroke:#000000;stroke-linecap:square;stroke-linejoin:miter;stroke-width:0.8;\"/>\n   </g>\n   <g id=\"patch_6\">\n    <path d=\"M 26.925 9.240815 \nL 125.395588 9.240815 \n\" style=\"fill:none;stroke:#000000;stroke-linecap:square;stroke-linejoin:miter;stroke-width:0.8;\"/>\n   </g>\n  </g>\n </g>\n <defs>\n  <clipPath id=\"p0b242d8b1c\">\n   <rect height=\"98.470588\" width=\"98.470588\" x=\"26.925\" y=\"9.240815\"/>\n  </clipPath>\n </defs>\n</svg>\n",
                        "image/png": "[encoded data removed]"
                    },
                    "metadata": {
                        "needs_background": "light"
                    }
                },
                {
                    "output_type": "display_data",
                    "data": {
                        "text/plain": [
                            "<Figure size 432x288 with 1 Axes>"
                        ],
                        "image/svg+xml": "<?xml version=\"1.0\" encoding=\"utf-8\" standalone=\"no\"?>\n<!DOCTYPE svg PUBLIC \"-//W3C//DTD SVG 1.1//EN\"\n  \"http://www.w3.org/Graphics/SVG/1.1/DTD/svg11.dtd\">\n<!-- Created with matplotlib (https://matplotlib.org/) -->\n<svg height=\"131.589529pt\" version=\"1.1\" viewBox=\"0 0 132.595588 131.589529\" width=\"132.595588pt\" xmlns=\"http://www.w3.org/2000/svg\" xmlns:xlink=\"http://www.w3.org/1999/xlink\">\n <defs>\n  <style type=\"text/css\">\n*{stroke-linecap:butt;stroke-linejoin:round;}\n  </style>\n </defs>\n <g id=\"figure_1\">\n  <g id=\"patch_1\">\n   <path d=\"M 0 131.589529 \nL 132.595588 131.589529 \nL 132.595588 0 \nL 0 0 \nz\n\" style=\"fill:none;\"/>\n  </g>\n  <g id=\"axes_1\">\n   <g id=\"patch_2\">\n    <path d=\"M 26.925 107.711404 \nL 125.395588 107.711404 \nL 125.395588 9.240815 \nL 26.925 9.240815 \nz\n\" style=\"fill:#ffffff;\"/>\n   </g>\n   <g clip-path=\"url(#p02b005630c)\">\n    <image height=\"99\" id=\"image00adc494b2\" transform=\"scale(1 -1)translate(0 -99)\" width=\"99\" x=\"26.925\" xlink:href=\"data:image/png;base64,\niVBORw0KGgoAAAANSUhEUgAAAGMAAABjCAYAAACPO76VAAAABHNCSVQICAgIfAhkiAAAA71JREFUeJztnD9IelEUx5/xQ+nf5Co4RAmREE0tklPk0hZBSw5tLWU01l4Ugpug4CIGTQ4hNEbZIDQ0tgU2ODQVDkL1G35wu+eCj+fz9d7XX9/PdA5H7zvw9dz7fPe8G7Is68siEIwFnQD5hmIAQTGAoBhAUAwgKAYQf4JOwCnLy8vCv7297fvZm5sb4a+vryv7/f3d28Q8hJUBBMUAgmIAMTJrxiCsrKwIv1arKTubzYrY6+urHyk5gpUBBMUA4r+cpkwikYiye71egJnYw8oAgmIAQTGA+BVrhn77+vb2FmAm9rAygKAYQIzsNBUKhfrGxsbkb2xxcVHZ8XhcxJ6fn71NbAhYGUBQDCAoBhAju2Z8ffXvvfv8/BT+7Oyssjc3N0Xs9PTU28SGgJUBBMUAImSNSK/t3Nyc8K+vr5Udi8VEzLzt1ae0+/t7EUulUl6lODSsDCAoBhAUA4iRubUNh8PCHx8fdzXOwsKC8PUGhUql4mpMr2BlAEExgICeptbW1pSdy+VELBqNuhpzenpa+IVCQdmdTkfEGo2Gq2u4hZUBBMUAgmIAAbVmnJ+fC39nZ0fZU1NTjscxd/rMp7g6k5OTyk4kEiLGNeMXQzGACHyaOjs7U/be3p6I6U9b7TaTTMxpaZDvBgkrAwiKAQTFAML3NWNiYkL4erNA0CSTyUCvz8oAgmIAQTGA8L075OTkRPgHBwffydh0dZi0Wi1l7+/vi1g6nRb+8fGxss0dQztmZmaU7UeDNCsDCIoBhC/TlN6ApjefWZZsQLObpp6enkRsdXVV2e122/b6j4+Pyp6fn3eQ8T9KpZKyd3d3Rezj48PxOE5hZQBBMYCgGED4smbop6jd3d31/ZzdDl2z2RSxQRqWNzY2lH1xceH4e3o+ZnP1y8uL43EcX8/zEYlrKAYQvj+1HeT1L6926C4vL5W9tLQkYoeHh47z+WlYGUBQDCAoBhCBd4c4xZzrM5mMsgdpNqvX68K3WzP8hpUBBMUAwpd/4Po7Efl8XsT017gG2VyqVqvK3t7edpWLmY955q2eT7lcFjH9fRGvzldnZQBBMYCgGED43pBgNrEVi0Vlb21tiZi+ZpiHA+tPYq+urjzJR8/FzKfb7YqYft76w8OD6+vrsDKAoBhAQJ2qY/Y/HR0dKdvstzL9n87HbIgYZmrsBysDCIoBBMUAAmrN+O2wMoCgGEBQDCAoBhAUAwiKAQTFAIJiAEExgKAYQFAMICgGEBQDCIoBBMUAgmIAQTGAoBhAUAwgKAYQfwHD1NoZeN2MywAAAABJRU5ErkJggg==\" y=\"-8.711404\"/>\n   </g>\n   <g id=\"matplotlib.axis_1\">\n    <g id=\"xtick_1\">\n     <g id=\"line2d_1\">\n      <defs>\n       <path d=\"M 0 0 \nL 0 3.5 \n\" id=\"m36a81b1d0a\" style=\"stroke:#000000;stroke-width:0.8;\"/>\n      </defs>\n      <g>\n       <use style=\"stroke:#000000;stroke-width:0.8;\" x=\"28.683403\" xlink:href=\"#m36a81b1d0a\" y=\"107.711404\"/>\n      </g>\n     </g>\n     <g id=\"text_1\">\n      <!-- 0 -->\n      <defs>\n       <path d=\"M 31.78125 66.40625 \nQ 24.171875 66.40625 20.328125 58.90625 \nQ 16.5 51.421875 16.5 36.375 \nQ 16.5 21.390625 20.328125 13.890625 \nQ 24.171875 6.390625 31.78125 6.390625 \nQ 39.453125 6.390625 43.28125 13.890625 \nQ 47.125 21.390625 47.125 36.375 \nQ 47.125 51.421875 43.28125 58.90625 \nQ 39.453125 66.40625 31.78125 66.40625 \nz\nM 31.78125 74.21875 \nQ 44.046875 74.21875 50.515625 64.515625 \nQ 56.984375 54.828125 56.984375 36.375 \nQ 56.984375 17.96875 50.515625 8.265625 \nQ 44.046875 -1.421875 31.78125 -1.421875 \nQ 19.53125 -1.421875 13.0625 8.265625 \nQ 6.59375 17.96875 6.59375 36.375 \nQ 6.59375 54.828125 13.0625 64.515625 \nQ 19.53125 74.21875 31.78125 74.21875 \nz\n\" id=\"DejaVuSans-48\"/>\n      </defs>\n      <g transform=\"translate(25.502153 122.309841)scale(0.1 -0.1)\">\n       <use xlink:href=\"#DejaVuSans-48\"/>\n      </g>\n     </g>\n    </g>\n    <g id=\"xtick_2\">\n     <g id=\"line2d_2\">\n      <g>\n       <use style=\"stroke:#000000;stroke-width:0.8;\" x=\"63.851471\" xlink:href=\"#m36a81b1d0a\" y=\"107.711404\"/>\n      </g>\n     </g>\n     <g id=\"text_2\">\n      <!-- 10 -->\n      <defs>\n       <path d=\"M 12.40625 8.296875 \nL 28.515625 8.296875 \nL 28.515625 63.921875 \nL 10.984375 60.40625 \nL 10.984375 69.390625 \nL 28.421875 72.90625 \nL 38.28125 72.90625 \nL 38.28125 8.296875 \nL 54.390625 8.296875 \nL 54.390625 0 \nL 12.40625 0 \nz\n\" id=\"DejaVuSans-49\"/>\n      </defs>\n      <g transform=\"translate(57.488971 122.309841)scale(0.1 -0.1)\">\n       <use xlink:href=\"#DejaVuSans-49\"/>\n       <use x=\"63.623047\" xlink:href=\"#DejaVuSans-48\"/>\n      </g>\n     </g>\n    </g>\n    <g id=\"xtick_3\">\n     <g id=\"line2d_3\">\n      <g>\n       <use style=\"stroke:#000000;stroke-width:0.8;\" x=\"99.019538\" xlink:href=\"#m36a81b1d0a\" y=\"107.711404\"/>\n      </g>\n     </g>\n     <g id=\"text_3\">\n      <!-- 20 -->\n      <defs>\n       <path d=\"M 19.1875 8.296875 \nL 53.609375 8.296875 \nL 53.609375 0 \nL 7.328125 0 \nL 7.328125 8.296875 \nQ 12.9375 14.109375 22.625 23.890625 \nQ 32.328125 33.6875 34.8125 36.53125 \nQ 39.546875 41.84375 41.421875 45.53125 \nQ 43.3125 49.21875 43.3125 52.78125 \nQ 43.3125 58.59375 39.234375 62.25 \nQ 35.15625 65.921875 28.609375 65.921875 \nQ 23.96875 65.921875 18.8125 64.3125 \nQ 13.671875 62.703125 7.8125 59.421875 \nL 7.8125 69.390625 \nQ 13.765625 71.78125 18.9375 73 \nQ 24.125 74.21875 28.421875 74.21875 \nQ 39.75 74.21875 46.484375 68.546875 \nQ 53.21875 62.890625 53.21875 53.421875 \nQ 53.21875 48.921875 51.53125 44.890625 \nQ 49.859375 40.875 45.40625 35.40625 \nQ 44.1875 33.984375 37.640625 27.21875 \nQ 31.109375 20.453125 19.1875 8.296875 \nz\n\" id=\"DejaVuSans-50\"/>\n      </defs>\n      <g transform=\"translate(92.657038 122.309841)scale(0.1 -0.1)\">\n       <use xlink:href=\"#DejaVuSans-50\"/>\n       <use x=\"63.623047\" xlink:href=\"#DejaVuSans-48\"/>\n      </g>\n     </g>\n    </g>\n   </g>\n   <g id=\"matplotlib.axis_2\">\n    <g id=\"ytick_1\">\n     <g id=\"line2d_4\">\n      <defs>\n       <path d=\"M 0 0 \nL -3.5 0 \n\" id=\"m4ac7184306\" style=\"stroke:#000000;stroke-width:0.8;\"/>\n      </defs>\n      <g>\n       <use style=\"stroke:#000000;stroke-width:0.8;\" x=\"26.925\" xlink:href=\"#m4ac7184306\" y=\"10.999219\"/>\n      </g>\n     </g>\n     <g id=\"text_4\">\n      <!-- 0 -->\n      <g transform=\"translate(13.5625 14.798437)scale(0.1 -0.1)\">\n       <use xlink:href=\"#DejaVuSans-48\"/>\n      </g>\n     </g>\n    </g>\n    <g id=\"ytick_2\">\n     <g id=\"line2d_5\">\n      <g>\n       <use style=\"stroke:#000000;stroke-width:0.8;\" x=\"26.925\" xlink:href=\"#m4ac7184306\" y=\"46.167286\"/>\n      </g>\n     </g>\n     <g id=\"text_5\">\n      <!-- 10 -->\n      <g transform=\"translate(7.2 49.966505)scale(0.1 -0.1)\">\n       <use xlink:href=\"#DejaVuSans-49\"/>\n       <use x=\"63.623047\" xlink:href=\"#DejaVuSans-48\"/>\n      </g>\n     </g>\n    </g>\n    <g id=\"ytick_3\">\n     <g id=\"line2d_6\">\n      <g>\n       <use style=\"stroke:#000000;stroke-width:0.8;\" x=\"26.925\" xlink:href=\"#m4ac7184306\" y=\"81.335353\"/>\n      </g>\n     </g>\n     <g id=\"text_6\">\n      <!-- 20 -->\n      <g transform=\"translate(7.2 85.134572)scale(0.1 -0.1)\">\n       <use xlink:href=\"#DejaVuSans-50\"/>\n       <use x=\"63.623047\" xlink:href=\"#DejaVuSans-48\"/>\n      </g>\n     </g>\n    </g>\n   </g>\n   <g id=\"patch_3\">\n    <path d=\"M 26.925 107.711404 \nL 26.925 9.240815 \n\" style=\"fill:none;stroke:#000000;stroke-linecap:square;stroke-linejoin:miter;stroke-width:0.8;\"/>\n   </g>\n   <g id=\"patch_4\">\n    <path d=\"M 125.395588 107.711404 \nL 125.395588 9.240815 \n\" style=\"fill:none;stroke:#000000;stroke-linecap:square;stroke-linejoin:miter;stroke-width:0.8;\"/>\n   </g>\n   <g id=\"patch_5\">\n    <path d=\"M 26.925 107.711404 \nL 125.395588 107.711404 \n\" style=\"fill:none;stroke:#000000;stroke-linecap:square;stroke-linejoin:miter;stroke-width:0.8;\"/>\n   </g>\n   <g id=\"patch_6\">\n    <path d=\"M 26.925 9.240815 \nL 125.395588 9.240815 \n\" style=\"fill:none;stroke:#000000;stroke-linecap:square;stroke-linejoin:miter;stroke-width:0.8;\"/>\n   </g>\n  </g>\n </g>\n <defs>\n  <clipPath id=\"p02b005630c\">\n   <rect height=\"98.470588\" width=\"98.470588\" x=\"26.925\" y=\"9.240815\"/>\n  </clipPath>\n </defs>\n</svg>\n",
                        "image/png": "[encoded data removed]"
                    },
                    "metadata": {
                        "needs_background": "light"
                    }
                },
                {
                    "output_type": "display_data",
                    "data": {
                        "text/plain": [
                            "<Figure size 432x288 with 1 Axes>"
                        ],
                        "image/svg+xml": "<?xml version=\"1.0\" encoding=\"utf-8\" standalone=\"no\"?>\n<!DOCTYPE svg PUBLIC \"-//W3C//DTD SVG 1.1//EN\"\n  \"http://www.w3.org/Graphics/SVG/1.1/DTD/svg11.dtd\">\n<!-- Created with matplotlib (https://matplotlib.org/) -->\n<svg height=\"131.589529pt\" version=\"1.1\" viewBox=\"0 0 132.595588 131.589529\" width=\"132.595588pt\" xmlns=\"http://www.w3.org/2000/svg\" xmlns:xlink=\"http://www.w3.org/1999/xlink\">\n <defs>\n  <style type=\"text/css\">\n*{stroke-linecap:butt;stroke-linejoin:round;}\n  </style>\n </defs>\n <g id=\"figure_1\">\n  <g id=\"patch_1\">\n   <path d=\"M 0 131.589529 \nL 132.595588 131.589529 \nL 132.595588 0 \nL 0 0 \nz\n\" style=\"fill:none;\"/>\n  </g>\n  <g id=\"axes_1\">\n   <g id=\"patch_2\">\n    <path d=\"M 26.925 107.711404 \nL 125.395588 107.711404 \nL 125.395588 9.240815 \nL 26.925 9.240815 \nz\n\" style=\"fill:#ffffff;\"/>\n   </g>\n   <g clip-path=\"url(#p424096f14d)\">\n    <image height=\"99\" id=\"image1a62e3eefc\" transform=\"scale(1 -1)translate(0 -99)\" width=\"99\" x=\"26.925\" xlink:href=\"data:image/png;base64,\niVBORw0KGgoAAAANSUhEUgAAAGMAAABjCAYAAACPO76VAAAABHNCSVQICAgIfAhkiAAAAuVJREFUeJzt3D2PaVEUBuDtuqEgUSskKiLRCaKVSEShET/ED0CIwt/QaxQSNAqJoBONqBQKoZH4KITc2+05+yTzca/Zx3vM+1RrZzUrebPOPjNjOIQQfwRB+PXsAegNwwDCMIAwDCAMAwjDAMIwgDAMIAwDCMMA8vvZA3zVYDBQzoFAQNaRSMTqcbTgZgBhGECgH1N+v1/WqVRK6W02G6vH0Y6bAYRhAGEYQKDvDJfLJWuv1/vESazBzQDCMIAwDCAMAwjDAMIwgEC/2u73e1nP53Ol53a7rR5HO24GEIYBBPoxdblcZL3b7ZReOp2WdSKRUHqz2UzvYJpwM4AwDCAMAwj0nfERp9Mpa+Nvd+2MmwGEYQCxzWNqOp0q50wmI2ufz2f1OFpwM4AwDCAMA4ht7ozFYvFur1gsKudut6t7HC24GUAYBhCHsMk3JBhfZYUQotfrydrhcCg980/kt9tN32DfiJsBhGEAYRhAbHNnmE0mE1knk0mlV61WlXO9XrdkpkdxM4AwDCAMA4ht74x8Pi/rTqej9FarlXKOxWKyPp1Oegd7ADcDCMMAYpvf2potl0tZ3+93pRcKhZRzoVCQdavV0jvYA7gZQBgGEIYBxLavtka1Wk05VyoV5Wx81Q2Hw5bM9D+4GUAYBpCXeEyZvz3hcDgoZ+Pncs0fXmi32/oG+0fcDCAMAwjDAPISd4aZ+UNsuVxO1v1+X+kZ75Dj8ah3sE9wM4AwDCAv+ZgKBoPKeTwey9r4JZRCCNFoNGRdLpe1zvUZbgYQhgGEYQCx7V/6PrJer5XzdruVtfnOiEajVoz0JdwMIAwDyEu+2pp5PB5ZD4dDpRePx9/tZbNZWV+vV03TveFmAGEYQBgGkJd8tTU7n8+yLpVKSq/ZbMp6NBopPfP/CurGzQDCMID8iFdbu+BmAGEYQBgGEIYBhGEAYRhAGAYQhgGEYQBhGEAYBhCGAYRhAGEYQBgGEIYBhGEA+QssT3lj32iZBgAAAABJRU5ErkJggg==\" y=\"-8.711404\"/>\n   </g>\n   <g id=\"matplotlib.axis_1\">\n    <g id=\"xtick_1\">\n     <g id=\"line2d_1\">\n      <defs>\n       <path d=\"M 0 0 \nL 0 3.5 \n\" id=\"m1af70b4925\" style=\"stroke:#000000;stroke-width:0.8;\"/>\n      </defs>\n      <g>\n       <use style=\"stroke:#000000;stroke-width:0.8;\" x=\"28.683403\" xlink:href=\"#m1af70b4925\" y=\"107.711404\"/>\n      </g>\n     </g>\n     <g id=\"text_1\">\n      <!-- 0 -->\n      <defs>\n       <path d=\"M 31.78125 66.40625 \nQ 24.171875 66.40625 20.328125 58.90625 \nQ 16.5 51.421875 16.5 36.375 \nQ 16.5 21.390625 20.328125 13.890625 \nQ 24.171875 6.390625 31.78125 6.390625 \nQ 39.453125 6.390625 43.28125 13.890625 \nQ 47.125 21.390625 47.125 36.375 \nQ 47.125 51.421875 43.28125 58.90625 \nQ 39.453125 66.40625 31.78125 66.40625 \nz\nM 31.78125 74.21875 \nQ 44.046875 74.21875 50.515625 64.515625 \nQ 56.984375 54.828125 56.984375 36.375 \nQ 56.984375 17.96875 50.515625 8.265625 \nQ 44.046875 -1.421875 31.78125 -1.421875 \nQ 19.53125 -1.421875 13.0625 8.265625 \nQ 6.59375 17.96875 6.59375 36.375 \nQ 6.59375 54.828125 13.0625 64.515625 \nQ 19.53125 74.21875 31.78125 74.21875 \nz\n\" id=\"DejaVuSans-48\"/>\n      </defs>\n      <g transform=\"translate(25.502153 122.309841)scale(0.1 -0.1)\">\n       <use xlink:href=\"#DejaVuSans-48\"/>\n      </g>\n     </g>\n    </g>\n    <g id=\"xtick_2\">\n     <g id=\"line2d_2\">\n      <g>\n       <use style=\"stroke:#000000;stroke-width:0.8;\" x=\"63.851471\" xlink:href=\"#m1af70b4925\" y=\"107.711404\"/>\n      </g>\n     </g>\n     <g id=\"text_2\">\n      <!-- 10 -->\n      <defs>\n       <path d=\"M 12.40625 8.296875 \nL 28.515625 8.296875 \nL 28.515625 63.921875 \nL 10.984375 60.40625 \nL 10.984375 69.390625 \nL 28.421875 72.90625 \nL 38.28125 72.90625 \nL 38.28125 8.296875 \nL 54.390625 8.296875 \nL 54.390625 0 \nL 12.40625 0 \nz\n\" id=\"DejaVuSans-49\"/>\n      </defs>\n      <g transform=\"translate(57.488971 122.309841)scale(0.1 -0.1)\">\n       <use xlink:href=\"#DejaVuSans-49\"/>\n       <use x=\"63.623047\" xlink:href=\"#DejaVuSans-48\"/>\n      </g>\n     </g>\n    </g>\n    <g id=\"xtick_3\">\n     <g id=\"line2d_3\">\n      <g>\n       <use style=\"stroke:#000000;stroke-width:0.8;\" x=\"99.019538\" xlink:href=\"#m1af70b4925\" y=\"107.711404\"/>\n      </g>\n     </g>\n     <g id=\"text_3\">\n      <!-- 20 -->\n      <defs>\n       <path d=\"M 19.1875 8.296875 \nL 53.609375 8.296875 \nL 53.609375 0 \nL 7.328125 0 \nL 7.328125 8.296875 \nQ 12.9375 14.109375 22.625 23.890625 \nQ 32.328125 33.6875 34.8125 36.53125 \nQ 39.546875 41.84375 41.421875 45.53125 \nQ 43.3125 49.21875 43.3125 52.78125 \nQ 43.3125 58.59375 39.234375 62.25 \nQ 35.15625 65.921875 28.609375 65.921875 \nQ 23.96875 65.921875 18.8125 64.3125 \nQ 13.671875 62.703125 7.8125 59.421875 \nL 7.8125 69.390625 \nQ 13.765625 71.78125 18.9375 73 \nQ 24.125 74.21875 28.421875 74.21875 \nQ 39.75 74.21875 46.484375 68.546875 \nQ 53.21875 62.890625 53.21875 53.421875 \nQ 53.21875 48.921875 51.53125 44.890625 \nQ 49.859375 40.875 45.40625 35.40625 \nQ 44.1875 33.984375 37.640625 27.21875 \nQ 31.109375 20.453125 19.1875 8.296875 \nz\n\" id=\"DejaVuSans-50\"/>\n      </defs>\n      <g transform=\"translate(92.657038 122.309841)scale(0.1 -0.1)\">\n       <use xlink:href=\"#DejaVuSans-50\"/>\n       <use x=\"63.623047\" xlink:href=\"#DejaVuSans-48\"/>\n      </g>\n     </g>\n    </g>\n   </g>\n   <g id=\"matplotlib.axis_2\">\n    <g id=\"ytick_1\">\n     <g id=\"line2d_4\">\n      <defs>\n       <path d=\"M 0 0 \nL -3.5 0 \n\" id=\"m539fc60ce2\" style=\"stroke:#000000;stroke-width:0.8;\"/>\n      </defs>\n      <g>\n       <use style=\"stroke:#000000;stroke-width:0.8;\" x=\"26.925\" xlink:href=\"#m539fc60ce2\" y=\"10.999219\"/>\n      </g>\n     </g>\n     <g id=\"text_4\">\n      <!-- 0 -->\n      <g transform=\"translate(13.5625 14.798438)scale(0.1 -0.1)\">\n       <use xlink:href=\"#DejaVuSans-48\"/>\n      </g>\n     </g>\n    </g>\n    <g id=\"ytick_2\">\n     <g id=\"line2d_5\">\n      <g>\n       <use style=\"stroke:#000000;stroke-width:0.8;\" x=\"26.925\" xlink:href=\"#m539fc60ce2\" y=\"46.167286\"/>\n      </g>\n     </g>\n     <g id=\"text_5\">\n      <!-- 10 -->\n      <g transform=\"translate(7.2 49.966505)scale(0.1 -0.1)\">\n       <use xlink:href=\"#DejaVuSans-49\"/>\n       <use x=\"63.623047\" xlink:href=\"#DejaVuSans-48\"/>\n      </g>\n     </g>\n    </g>\n    <g id=\"ytick_3\">\n     <g id=\"line2d_6\">\n      <g>\n       <use style=\"stroke:#000000;stroke-width:0.8;\" x=\"26.925\" xlink:href=\"#m539fc60ce2\" y=\"81.335353\"/>\n      </g>\n     </g>\n     <g id=\"text_6\">\n      <!-- 20 -->\n      <g transform=\"translate(7.2 85.134572)scale(0.1 -0.1)\">\n       <use xlink:href=\"#DejaVuSans-50\"/>\n       <use x=\"63.623047\" xlink:href=\"#DejaVuSans-48\"/>\n      </g>\n     </g>\n    </g>\n   </g>\n   <g id=\"patch_3\">\n    <path d=\"M 26.925 107.711404 \nL 26.925 9.240815 \n\" style=\"fill:none;stroke:#000000;stroke-linecap:square;stroke-linejoin:miter;stroke-width:0.8;\"/>\n   </g>\n   <g id=\"patch_4\">\n    <path d=\"M 125.395588 107.711404 \nL 125.395588 9.240815 \n\" style=\"fill:none;stroke:#000000;stroke-linecap:square;stroke-linejoin:miter;stroke-width:0.8;\"/>\n   </g>\n   <g id=\"patch_5\">\n    <path d=\"M 26.925 107.711404 \nL 125.395588 107.711404 \n\" style=\"fill:none;stroke:#000000;stroke-linecap:square;stroke-linejoin:miter;stroke-width:0.8;\"/>\n   </g>\n   <g id=\"patch_6\">\n    <path d=\"M 26.925 9.240815 \nL 125.395588 9.240815 \n\" style=\"fill:none;stroke:#000000;stroke-linecap:square;stroke-linejoin:miter;stroke-width:0.8;\"/>\n   </g>\n  </g>\n </g>\n <defs>\n  <clipPath id=\"p424096f14d\">\n   <rect height=\"98.470588\" width=\"98.470588\" x=\"26.925\" y=\"9.240815\"/>\n  </clipPath>\n </defs>\n</svg>\n",
                        "image/png": "[encoded data removed]"
                    },
                    "metadata": {
                        "needs_background": "light"
                    }
                }
            ],
            "metadata": {}
        },
        {
            "cell_type": "markdown",
            "source": [
                "  #Random note : The good qualities for Activation functions are non linearity and diffirentiability\n",
                "\n",
                "    ReLU - Rectified Liear Activation Function:\n",
                "        - It's fast, non-linear, diffirentiable, NO VANISHING GRADIENT ISSUE\n",
                "        - Can't deal with negative inputs (won't support back propogation), neurons die.\n",
                "\n",
                "    Leaky ReLU - Variation of ReaLU that deals with the dying neurons\n",
                "        - Derivative is not zero, just a very small fraction. So neurons won't stop learning during back propogation\n",
                "    \n",
                "    Sigmoid - Output range b/w 0 and 1\n",
                "        - non-linear, diffirentiable, good for binary classification properties\n",
                "        - VANISHING GRADIENT PROBLEM, Slow computation\n",
                "    \n",
                "    Tanh - Output Range b/w +1 to -1\n",
                "        - non linear and diffirentiable \n",
                "        - can be used to transform outputs to a negative value\n",
                "        - VANISHING GRADIENT ISSUE\n",
                "    \n",
                "    SoftMax - Produce Probability distribution as a vector ranging b/w 0 and 1\n",
                "        - Good for Multiclass classification\n"
            ],
            "metadata": {}
        },
        {
            "cell_type": "code",
            "execution_count": 18,
            "source": [
                "#Creating the Neural Net :  \n",
                "#Selectig the activation function:\n",
                "\n",
                "#To implement a FNN - we require linear and non linear layers\n",
                "class NeuralNet(nn.Module):\n",
                "    def __init__(self, inputSize, hiddenSize, outputSize):\n",
                "\n",
                "        super(NeuralNet, self).__init__()\n",
                "        #The linear function\n",
                "        self.LinFunc1 = nn.Linear(inputSize, hiddenSize)\n",
                "        #The non linear function\n",
                "        self.sigFunc = torch.nn.Sigmoid()\n",
                "        #The Linear readout\n",
                "        self.LinFunc2 = nn.Linear(hiddenSize, outputSize)\n",
                "\n",
                "    def feedForward(self, x):\n",
                "        \n",
                "        #Output from Linear function\n",
                "        output = self.LinFunc1(x)\n",
                "        #Send this output to non linear function\n",
                "        output = self.sigFunc(output)\n",
                "        #To the read out linear layer\n",
                "        output = self.LinFunc2(output)\n",
                "\n",
                "        return output\n",
                "\n",
                "        "
            ],
            "outputs": [],
            "metadata": {}
        },
        {
            "cell_type": "code",
            "execution_count": 19,
            "source": [
                "#Instantiate the model class\n",
                "model = NeuralNet(input_size, hidden_size, output_size)"
            ],
            "outputs": [],
            "metadata": {}
        },
        {
            "cell_type": "markdown",
            "source": [
                "The Loss Function : As a part of training a deep learning model, we require to choose an error function that caan be used to estimate an error value, in order to update the model for reduction of over all errors\n",
                "\n",
                "(Specific to Regression Loss Functions)\n",
                "\n",
                "-> Mean Squared Error Loss (MSE)\n",
                "\n",
                "-> Mean Squared logarithimic loss\n",
                "\n",
                "-> Mean Absolute Error Loss\n",
                "\n",
                "(Specific to Binary Classifications)\n",
                "\n",
                "-> Cross-Entropy\n",
                "\n",
                "-> Hinge Loss\n",
                "\n",
                "-> Squared Hinge Loss\n",
                "\n",
                "(Specific to Multi-Class Classification Loss Functions)\n",
                "\n",
                "-> Multi-Class Cross-Entropy Loss\n",
                "\n",
                "-> Sparse Multiclass Cross-Entropy Loss\n",
                "\n",
                "-> Kullback Leibler Divergence Loss\n"
            ],
            "metadata": {}
        },
        {
            "cell_type": "code",
            "execution_count": 20,
            "source": [
                "#Initializing the Loss Class\n",
                "\n",
                "#~ Multiclass classification - going for the CrossEntropyLoss \n",
                "lossFunction = nn.CrossEntropyLoss()"
            ],
            "outputs": [],
            "metadata": {}
        },
        {
            "cell_type": "markdown",
            "source": [
                "How do I MANUALLY optimize the weights of my neural network?\n",
                "\n",
                "Stochastic gradient descent optimization algorithm\n",
                "    -> Errors are assigned proportionally based on network weights (backpropogation algorithm)\n"
            ],
            "metadata": {}
        },
        {
            "cell_type": "code",
            "execution_count": 21,
            "source": [
                "#We will stick to the Stochastic Gradient Decent(SGD)\n",
                "#parameters = parameters - learning_rate * parameters_gradients\n",
                "optimization = torch.optim.SGD(model.parameters(), lr=learning_rate)"
            ],
            "outputs": [],
            "metadata": {}
        },
        {
            "cell_type": "markdown",
            "source": [
                "NOTE : Non-linear layers have no parameters to update. They are merely mathematical functions performed on Y, the output of our linear layers."
            ],
            "metadata": {}
        },
        {
            "cell_type": "code",
            "execution_count": 24,
            "source": [
                "#print(model.parameters()) -> returns generator object, so we'll need a list\n",
                "\n",
                "print(len(list(model.parameters())))\n",
                "\n",
                "#So we have 4 parameters\n",
                "print(list(model.parameters())[0].size())\n",
                "\n",
                "#To be Continued....."
            ],
            "outputs": [
                {
                    "output_type": "stream",
                    "name": "stdout",
                    "text": [
                        "4\n",
                        "torch.Size([100, 784])\n"
                    ]
                }
            ],
            "metadata": {}
        }
    ],
    "metadata": {
        "orig_nbformat": 4,
        "language_info": {
            "name": "python",
            "version": "3.7.6",
            "mimetype": "text/x-python",
            "codemirror_mode": {
                "name": "ipython",
                "version": 3
            },
            "pygments_lexer": "ipython3",
            "nbconvert_exporter": "python",
            "file_extension": ".py"
        },
        "kernelspec": {
            "name": "python3",
            "display_name": "Python 3.7.6 64-bit ('base': conda)"
        },
        "interpreter": {
            "hash": "086be1427ca05b2af312932b7165838409742844383f947360d93b21591334d7"
        }
    },
    "nbformat": 4,
    "nbformat_minor": 2
}